{
  "nbformat": 4,
  "nbformat_minor": 0,
  "metadata": {
    "colab": {
      "name": "Testing - Binary.ipynb",
      "version": "0.3.2",
      "provenance": [],
      "collapsed_sections": []
    },
    "kernelspec": {
      "name": "python3",
      "display_name": "Python 3"
    },
    "accelerator": "GPU"
  },
  "cells": [
    {
      "cell_type": "markdown",
      "metadata": {
        "id": "IyU3LAo8D9Ks",
        "colab_type": "text"
      },
      "source": [
        "# Summary"
      ]
    },
    {
      "cell_type": "markdown",
      "metadata": {
        "id": "5o5sY3dj_Zoy",
        "colab_type": "text"
      },
      "source": [
        "This notebook has four main objectives:\n",
        "\n",
        "1. First we generate synthetic data using the DGen module\n",
        "2. Second we use kmeans to determine optimum number of cadres\n",
        "3. Then we test  results from step 2, using regular Logistic Regression (since the target is binary)\n",
        "4.  Third, we replicate the SCM from the binaryClassification2.py module \n",
        "5. Finally, we also look at how well the classifications perform\n"
      ]
    },
    {
      "cell_type": "code",
      "metadata": {
        "id": "xPLueMBF-ffH",
        "colab_type": "code",
        "outputId": "9e7f8c1d-3f0d-455e-cf91-2e621f0ac54e",
        "colab": {
          "base_uri": "https://localhost:8080/",
          "height": 395
        }
      },
      "source": [
        "# pull from git repositories\n",
        "!git clone https://github.com/jorje1908/SGMM.git\n",
        "!git clone https://github.com/newalexander/supervised-cadres.git\n",
        "!git clone https://github.com/HealthINCITE/cadre.git"
      ],
      "execution_count": 1,
      "outputs": [
        {
          "output_type": "stream",
          "text": [
            "Cloning into 'SGMM'...\n",
            "remote: Enumerating objects: 363, done.\u001b[K\n",
            "remote: Counting objects: 100% (363/363), done.\u001b[K\n",
            "remote: Compressing objects: 100% (236/236), done.\u001b[K\n",
            "remote: Total 363 (delta 232), reused 250 (delta 125), pack-reused 0\u001b[K\n",
            "Receiving objects: 100% (363/363), 230.93 KiB | 245.00 KiB/s, done.\n",
            "Resolving deltas: 100% (232/232), done.\n",
            "Cloning into 'supervised-cadres'...\n",
            "remote: Enumerating objects: 39, done.\u001b[K\n",
            "remote: Counting objects: 100% (39/39), done.\u001b[K\n",
            "remote: Compressing objects: 100% (39/39), done.\u001b[K\n",
            "remote: Total 431 (delta 25), reused 0 (delta 0), pack-reused 392\u001b[K\n",
            "Receiving objects: 100% (431/431), 321.92 KiB | 440.00 KiB/s, done.\n",
            "Resolving deltas: 100% (250/250), done.\n",
            "Cloning into 'cadre'...\n",
            "remote: Enumerating objects: 215, done.\u001b[K\n",
            "remote: Counting objects: 100% (215/215), done.\u001b[K\n",
            "remote: Compressing objects: 100% (149/149), done.\u001b[K\n",
            "remote: Total 215 (delta 85), reused 142 (delta 35), pack-reused 0\u001b[K\n",
            "Receiving objects: 100% (215/215), 1.01 MiB | 439.00 KiB/s, done.\n",
            "Resolving deltas: 100% (85/85), done.\n"
          ],
          "name": "stdout"
        }
      ]
    },
    {
      "cell_type": "code",
      "metadata": {
        "id": "0BkH3Ecb-gRB",
        "colab_type": "code",
        "colab": {}
      },
      "source": [
        "from  sklearn.datasets import make_regression\n",
        "import pandas as pd    \n",
        "import numpy as np\n",
        "import matplotlib.pyplot as plt\n",
        "import seaborn as sns\n",
        "%matplotlib inline\n",
        "\n",
        "# imports for data generator module\n",
        "import sys\n",
        "sys.path.append('cadre/cadre/modules/simulation')\n",
        "sys.path.append('cadre/cadre/modules/other')\n",
        "from dgen import DGenerator\n",
        "\n",
        "# imports for SGMM \n",
        "sys.path.append('SGMM/SGMM')\n",
        "sys.path.append('SGMM/metrics')\n",
        "\n",
        "# imports for SCM\n",
        "import sys\n",
        "from scipy.stats import zscore, zmap\n",
        "from sklearn.model_selection import train_test_split, KFold\n",
        "from itertools import product\n",
        "from joblib import Parallel, delayed\n",
        "from multiprocessing import cpu_count"
      ],
      "execution_count": 0,
      "outputs": []
    },
    {
      "cell_type": "markdown",
      "metadata": {
        "id": "mxqzT_eVD2Ct",
        "colab_type": "text"
      },
      "source": [
        "# Generate Cadre and Cadre Features"
      ]
    },
    {
      "cell_type": "code",
      "metadata": {
        "id": "_oLbDK2H-gWU",
        "colab_type": "code",
        "colab": {}
      },
      "source": [
        "# assign attributes\n",
        "\n",
        "c_samples = 1000   #Number of samples\n",
        "c_features = 10     #Number of features\n",
        "c_informative = 5   #Number of featurs that are informative\n",
        "c_cadres = 5        #Number of cadres\n",
        "c_seed = 101        #Randome seed (for repeatability)\n",
        "c_red = 0           #Number of redundant features (test of multicolinearity impact)\n",
        "c_classep = 4       #Cadre separation (are there large separations among cadres or are they similar)\n",
        "c_flip = 0          #Cadre membership flip.  This will flip the membership of x% of cadres"
      ],
      "execution_count": 0,
      "outputs": []
    },
    {
      "cell_type": "markdown",
      "metadata": {
        "id": "vNjOkb9JE8Cf",
        "colab_type": "text"
      },
      "source": [
        "Next, we generate features and cadres based on these features. So these are cadre features. This will help us test the classification modules later on"
      ]
    },
    {
      "cell_type": "code",
      "metadata": {
        "id": "gl3NgARi-gbA",
        "colab_type": "code",
        "outputId": "04168ec8-c842-47da-ed7b-cdf54839687f",
        "colab": {
          "base_uri": "https://localhost:8080/",
          "height": 204
        }
      },
      "source": [
        "df_cadre = DGenerator.generate_cadres(samples = c_samples, features = c_features, informative = c_informative, cadres = c_cadres, seed = c_seed, redundant = c_red, classep = c_classep, flip = c_flip)\n",
        "df_cadre.head()"
      ],
      "execution_count": 4,
      "outputs": [
        {
          "output_type": "execute_result",
          "data": {
            "text/html": [
              "<div>\n",
              "<style scoped>\n",
              "    .dataframe tbody tr th:only-of-type {\n",
              "        vertical-align: middle;\n",
              "    }\n",
              "\n",
              "    .dataframe tbody tr th {\n",
              "        vertical-align: top;\n",
              "    }\n",
              "\n",
              "    .dataframe thead th {\n",
              "        text-align: right;\n",
              "    }\n",
              "</style>\n",
              "<table border=\"1\" class=\"dataframe\">\n",
              "  <thead>\n",
              "    <tr style=\"text-align: right;\">\n",
              "      <th></th>\n",
              "      <th>cad0</th>\n",
              "      <th>cad1</th>\n",
              "      <th>cad2</th>\n",
              "      <th>cad3</th>\n",
              "      <th>cad4</th>\n",
              "      <th>cad5</th>\n",
              "      <th>cad6</th>\n",
              "      <th>cad7</th>\n",
              "      <th>cad8</th>\n",
              "      <th>cad9</th>\n",
              "      <th>cadre</th>\n",
              "      <th>index_c</th>\n",
              "    </tr>\n",
              "  </thead>\n",
              "  <tbody>\n",
              "    <tr>\n",
              "      <th>0</th>\n",
              "      <td>-4.482410</td>\n",
              "      <td>-4.619843</td>\n",
              "      <td>-0.997349</td>\n",
              "      <td>0.566676</td>\n",
              "      <td>2.126565</td>\n",
              "      <td>1.777562</td>\n",
              "      <td>3.996400</td>\n",
              "      <td>0.529722</td>\n",
              "      <td>5.346935</td>\n",
              "      <td>2.831843</td>\n",
              "      <td>0</td>\n",
              "      <td>0</td>\n",
              "    </tr>\n",
              "    <tr>\n",
              "      <th>1</th>\n",
              "      <td>-4.275286</td>\n",
              "      <td>-2.881474</td>\n",
              "      <td>-2.370080</td>\n",
              "      <td>-0.983635</td>\n",
              "      <td>0.938040</td>\n",
              "      <td>0.678835</td>\n",
              "      <td>3.397562</td>\n",
              "      <td>0.145567</td>\n",
              "      <td>3.981830</td>\n",
              "      <td>3.362928</td>\n",
              "      <td>0</td>\n",
              "      <td>1</td>\n",
              "    </tr>\n",
              "    <tr>\n",
              "      <th>2</th>\n",
              "      <td>2.775304</td>\n",
              "      <td>-2.224774</td>\n",
              "      <td>-1.369726</td>\n",
              "      <td>-0.906824</td>\n",
              "      <td>-0.686132</td>\n",
              "      <td>0.601892</td>\n",
              "      <td>4.045526</td>\n",
              "      <td>1.985196</td>\n",
              "      <td>3.116355</td>\n",
              "      <td>-3.835390</td>\n",
              "      <td>0</td>\n",
              "      <td>2</td>\n",
              "    </tr>\n",
              "    <tr>\n",
              "      <th>3</th>\n",
              "      <td>-3.144241</td>\n",
              "      <td>-3.155927</td>\n",
              "      <td>-0.103750</td>\n",
              "      <td>0.712932</td>\n",
              "      <td>1.052544</td>\n",
              "      <td>0.615533</td>\n",
              "      <td>3.637596</td>\n",
              "      <td>-0.801713</td>\n",
              "      <td>2.217286</td>\n",
              "      <td>4.895699</td>\n",
              "      <td>0</td>\n",
              "      <td>3</td>\n",
              "    </tr>\n",
              "    <tr>\n",
              "      <th>4</th>\n",
              "      <td>-1.543432</td>\n",
              "      <td>-4.854725</td>\n",
              "      <td>1.101187</td>\n",
              "      <td>0.297339</td>\n",
              "      <td>-0.196661</td>\n",
              "      <td>-0.038621</td>\n",
              "      <td>3.212342</td>\n",
              "      <td>1.442216</td>\n",
              "      <td>1.648459</td>\n",
              "      <td>6.916369</td>\n",
              "      <td>0</td>\n",
              "      <td>4</td>\n",
              "    </tr>\n",
              "  </tbody>\n",
              "</table>\n",
              "</div>"
            ],
            "text/plain": [
              "       cad0      cad1      cad2      cad3  ...      cad8      cad9  cadre  index_c\n",
              "0 -4.482410 -4.619843 -0.997349  0.566676  ...  5.346935  2.831843      0        0\n",
              "1 -4.275286 -2.881474 -2.370080 -0.983635  ...  3.981830  3.362928      0        1\n",
              "2  2.775304 -2.224774 -1.369726 -0.906824  ...  3.116355 -3.835390      0        2\n",
              "3 -3.144241 -3.155927 -0.103750  0.712932  ...  2.217286  4.895699      0        3\n",
              "4 -1.543432 -4.854725  1.101187  0.297339  ...  1.648459  6.916369      0        4\n",
              "\n",
              "[5 rows x 12 columns]"
            ]
          },
          "metadata": {
            "tags": []
          },
          "execution_count": 4
        }
      ]
    },
    {
      "cell_type": "markdown",
      "metadata": {
        "id": "cTAMOGolFUm0",
        "colab_type": "text"
      },
      "source": [
        "In the next cell we generate target and target features. Note that we have separated cadre prediction features from target prediction features."
      ]
    },
    {
      "cell_type": "code",
      "metadata": {
        "id": "WAm3OTSD-ggD",
        "colab_type": "code",
        "colab": {}
      },
      "source": [
        "# assign attributes\n",
        "t_cadres = 5\n",
        "t_samples = int(c_samples/t_cadres)\n",
        "t_features = 5\n",
        "t_classes = 2\n",
        "t_informative = 5\n",
        "t_seed = 101\n",
        "t_red = 0\n",
        "t_classep = 6\n",
        "t_flip = 0"
      ],
      "execution_count": 0,
      "outputs": []
    },
    {
      "cell_type": "code",
      "metadata": {
        "id": "h0o2QGH2-gjU",
        "colab_type": "code",
        "outputId": "ae4da0ff-2b78-4115-8ae8-1f86a6b4ee74",
        "colab": {
          "base_uri": "https://localhost:8080/",
          "height": 204
        }
      },
      "source": [
        "df_variables = DGenerator.generate_variables(cadres = t_cadres, samples = t_samples, features = t_features, classes = t_classes, informative = t_informative, seed = t_seed, redundant = t_red, classep = t_classep, flip = t_flip)\n",
        "df_variables.head()"
      ],
      "execution_count": 6,
      "outputs": [
        {
          "output_type": "execute_result",
          "data": {
            "text/html": [
              "<div>\n",
              "<style scoped>\n",
              "    .dataframe tbody tr th:only-of-type {\n",
              "        vertical-align: middle;\n",
              "    }\n",
              "\n",
              "    .dataframe tbody tr th {\n",
              "        vertical-align: top;\n",
              "    }\n",
              "\n",
              "    .dataframe thead th {\n",
              "        text-align: right;\n",
              "    }\n",
              "</style>\n",
              "<table border=\"1\" class=\"dataframe\">\n",
              "  <thead>\n",
              "    <tr style=\"text-align: right;\">\n",
              "      <th></th>\n",
              "      <th>dv0</th>\n",
              "      <th>dv1</th>\n",
              "      <th>dv2</th>\n",
              "      <th>dv3</th>\n",
              "      <th>dv4</th>\n",
              "      <th>target</th>\n",
              "      <th>cadre</th>\n",
              "      <th>index_c</th>\n",
              "    </tr>\n",
              "  </thead>\n",
              "  <tbody>\n",
              "    <tr>\n",
              "      <th>0</th>\n",
              "      <td>5.784785</td>\n",
              "      <td>6.177201</td>\n",
              "      <td>-5.189262</td>\n",
              "      <td>6.070376</td>\n",
              "      <td>-5.898889</td>\n",
              "      <td>1</td>\n",
              "      <td>0</td>\n",
              "      <td>0</td>\n",
              "    </tr>\n",
              "    <tr>\n",
              "      <th>1</th>\n",
              "      <td>-7.783252</td>\n",
              "      <td>-5.636362</td>\n",
              "      <td>5.250647</td>\n",
              "      <td>5.624133</td>\n",
              "      <td>-6.060853</td>\n",
              "      <td>0</td>\n",
              "      <td>0</td>\n",
              "      <td>1</td>\n",
              "    </tr>\n",
              "    <tr>\n",
              "      <th>2</th>\n",
              "      <td>-6.179748</td>\n",
              "      <td>-5.222403</td>\n",
              "      <td>-4.925779</td>\n",
              "      <td>6.182969</td>\n",
              "      <td>-6.919294</td>\n",
              "      <td>1</td>\n",
              "      <td>0</td>\n",
              "      <td>2</td>\n",
              "    </tr>\n",
              "    <tr>\n",
              "      <th>3</th>\n",
              "      <td>7.143124</td>\n",
              "      <td>5.980376</td>\n",
              "      <td>-5.985737</td>\n",
              "      <td>6.742185</td>\n",
              "      <td>-5.723161</td>\n",
              "      <td>1</td>\n",
              "      <td>0</td>\n",
              "      <td>3</td>\n",
              "    </tr>\n",
              "    <tr>\n",
              "      <th>4</th>\n",
              "      <td>4.798002</td>\n",
              "      <td>7.331110</td>\n",
              "      <td>-6.460732</td>\n",
              "      <td>6.288602</td>\n",
              "      <td>-5.742962</td>\n",
              "      <td>1</td>\n",
              "      <td>0</td>\n",
              "      <td>4</td>\n",
              "    </tr>\n",
              "  </tbody>\n",
              "</table>\n",
              "</div>"
            ],
            "text/plain": [
              "        dv0       dv1       dv2       dv3       dv4  target  cadre  index_c\n",
              "0  5.784785  6.177201 -5.189262  6.070376 -5.898889       1      0        0\n",
              "1 -7.783252 -5.636362  5.250647  5.624133 -6.060853       0      0        1\n",
              "2 -6.179748 -5.222403 -4.925779  6.182969 -6.919294       1      0        2\n",
              "3  7.143124  5.980376 -5.985737  6.742185 -5.723161       1      0        3\n",
              "4  4.798002  7.331110 -6.460732  6.288602 -5.742962       1      0        4"
            ]
          },
          "metadata": {
            "tags": []
          },
          "execution_count": 6
        }
      ]
    },
    {
      "cell_type": "code",
      "metadata": {
        "id": "CrRpy9a8-gpX",
        "colab_type": "code",
        "outputId": "2dbacd5c-3558-4539-9373-ce2703b59a2d",
        "colab": {
          "base_uri": "https://localhost:8080/",
          "height": 204
        }
      },
      "source": [
        "# merge the two dataframes created\n",
        "z = pd.merge(df_cadre, df_variables)\n",
        "z.head()"
      ],
      "execution_count": 7,
      "outputs": [
        {
          "output_type": "execute_result",
          "data": {
            "text/html": [
              "<div>\n",
              "<style scoped>\n",
              "    .dataframe tbody tr th:only-of-type {\n",
              "        vertical-align: middle;\n",
              "    }\n",
              "\n",
              "    .dataframe tbody tr th {\n",
              "        vertical-align: top;\n",
              "    }\n",
              "\n",
              "    .dataframe thead th {\n",
              "        text-align: right;\n",
              "    }\n",
              "</style>\n",
              "<table border=\"1\" class=\"dataframe\">\n",
              "  <thead>\n",
              "    <tr style=\"text-align: right;\">\n",
              "      <th></th>\n",
              "      <th>cad0</th>\n",
              "      <th>cad1</th>\n",
              "      <th>cad2</th>\n",
              "      <th>cad3</th>\n",
              "      <th>cad4</th>\n",
              "      <th>cad5</th>\n",
              "      <th>cad6</th>\n",
              "      <th>cad7</th>\n",
              "      <th>cad8</th>\n",
              "      <th>cad9</th>\n",
              "      <th>cadre</th>\n",
              "      <th>index_c</th>\n",
              "      <th>dv0</th>\n",
              "      <th>dv1</th>\n",
              "      <th>dv2</th>\n",
              "      <th>dv3</th>\n",
              "      <th>dv4</th>\n",
              "      <th>target</th>\n",
              "    </tr>\n",
              "  </thead>\n",
              "  <tbody>\n",
              "    <tr>\n",
              "      <th>0</th>\n",
              "      <td>-4.482410</td>\n",
              "      <td>-4.619843</td>\n",
              "      <td>-0.997349</td>\n",
              "      <td>0.566676</td>\n",
              "      <td>2.126565</td>\n",
              "      <td>1.777562</td>\n",
              "      <td>3.996400</td>\n",
              "      <td>0.529722</td>\n",
              "      <td>5.346935</td>\n",
              "      <td>2.831843</td>\n",
              "      <td>0</td>\n",
              "      <td>0</td>\n",
              "      <td>5.784785</td>\n",
              "      <td>6.177201</td>\n",
              "      <td>-5.189262</td>\n",
              "      <td>6.070376</td>\n",
              "      <td>-5.898889</td>\n",
              "      <td>1</td>\n",
              "    </tr>\n",
              "    <tr>\n",
              "      <th>1</th>\n",
              "      <td>1.477593</td>\n",
              "      <td>-3.269475</td>\n",
              "      <td>-0.234938</td>\n",
              "      <td>-0.763632</td>\n",
              "      <td>-0.596139</td>\n",
              "      <td>0.075753</td>\n",
              "      <td>6.446434</td>\n",
              "      <td>0.518770</td>\n",
              "      <td>5.242586</td>\n",
              "      <td>-4.823776</td>\n",
              "      <td>0</td>\n",
              "      <td>0</td>\n",
              "      <td>5.784785</td>\n",
              "      <td>6.177201</td>\n",
              "      <td>-5.189262</td>\n",
              "      <td>6.070376</td>\n",
              "      <td>-5.898889</td>\n",
              "      <td>1</td>\n",
              "    </tr>\n",
              "    <tr>\n",
              "      <th>2</th>\n",
              "      <td>-4.275286</td>\n",
              "      <td>-2.881474</td>\n",
              "      <td>-2.370080</td>\n",
              "      <td>-0.983635</td>\n",
              "      <td>0.938040</td>\n",
              "      <td>0.678835</td>\n",
              "      <td>3.397562</td>\n",
              "      <td>0.145567</td>\n",
              "      <td>3.981830</td>\n",
              "      <td>3.362928</td>\n",
              "      <td>0</td>\n",
              "      <td>1</td>\n",
              "      <td>-7.783252</td>\n",
              "      <td>-5.636362</td>\n",
              "      <td>5.250647</td>\n",
              "      <td>5.624133</td>\n",
              "      <td>-6.060853</td>\n",
              "      <td>0</td>\n",
              "    </tr>\n",
              "    <tr>\n",
              "      <th>3</th>\n",
              "      <td>2.775304</td>\n",
              "      <td>-2.224774</td>\n",
              "      <td>-1.369726</td>\n",
              "      <td>-0.906824</td>\n",
              "      <td>-0.686132</td>\n",
              "      <td>0.601892</td>\n",
              "      <td>4.045526</td>\n",
              "      <td>1.985196</td>\n",
              "      <td>3.116355</td>\n",
              "      <td>-3.835390</td>\n",
              "      <td>0</td>\n",
              "      <td>2</td>\n",
              "      <td>-6.179748</td>\n",
              "      <td>-5.222403</td>\n",
              "      <td>-4.925779</td>\n",
              "      <td>6.182969</td>\n",
              "      <td>-6.919294</td>\n",
              "      <td>1</td>\n",
              "    </tr>\n",
              "    <tr>\n",
              "      <th>4</th>\n",
              "      <td>-3.144241</td>\n",
              "      <td>-3.155927</td>\n",
              "      <td>-0.103750</td>\n",
              "      <td>0.712932</td>\n",
              "      <td>1.052544</td>\n",
              "      <td>0.615533</td>\n",
              "      <td>3.637596</td>\n",
              "      <td>-0.801713</td>\n",
              "      <td>2.217286</td>\n",
              "      <td>4.895699</td>\n",
              "      <td>0</td>\n",
              "      <td>3</td>\n",
              "      <td>7.143124</td>\n",
              "      <td>5.980376</td>\n",
              "      <td>-5.985737</td>\n",
              "      <td>6.742185</td>\n",
              "      <td>-5.723161</td>\n",
              "      <td>1</td>\n",
              "    </tr>\n",
              "  </tbody>\n",
              "</table>\n",
              "</div>"
            ],
            "text/plain": [
              "       cad0      cad1      cad2      cad3  ...       dv2       dv3       dv4  target\n",
              "0 -4.482410 -4.619843 -0.997349  0.566676  ... -5.189262  6.070376 -5.898889       1\n",
              "1  1.477593 -3.269475 -0.234938 -0.763632  ... -5.189262  6.070376 -5.898889       1\n",
              "2 -4.275286 -2.881474 -2.370080 -0.983635  ...  5.250647  5.624133 -6.060853       0\n",
              "3  2.775304 -2.224774 -1.369726 -0.906824  ... -4.925779  6.182969 -6.919294       1\n",
              "4 -3.144241 -3.155927 -0.103750  0.712932  ... -5.985737  6.742185 -5.723161       1\n",
              "\n",
              "[5 rows x 18 columns]"
            ]
          },
          "metadata": {
            "tags": []
          },
          "execution_count": 7
        }
      ]
    },
    {
      "cell_type": "code",
      "metadata": {
        "id": "jKvjJl7APsOH",
        "colab_type": "code",
        "colab": {}
      },
      "source": [
        "df_bin = z.drop(['index_c','cadre','target'], 1)"
      ],
      "execution_count": 0,
      "outputs": []
    },
    {
      "cell_type": "code",
      "metadata": {
        "id": "QFnAytTLQH6G",
        "colab_type": "code",
        "colab": {}
      },
      "source": [
        "bcolumns = df_bin.keys()"
      ],
      "execution_count": 0,
      "outputs": []
    },
    {
      "cell_type": "code",
      "metadata": {
        "id": "QyO-Q53UQIEJ",
        "colab_type": "code",
        "colab": {}
      },
      "source": [
        "df_binary = DGenerator.convert_binary(df_bin, bcolumns)"
      ],
      "execution_count": 0,
      "outputs": []
    },
    {
      "cell_type": "code",
      "metadata": {
        "id": "gBqGcNRHQIHp",
        "colab_type": "code",
        "outputId": "30e4f57d-f0ef-4bb1-ed0f-59810321c342",
        "colab": {
          "base_uri": "https://localhost:8080/",
          "height": 204
        }
      },
      "source": [
        "df_binary.head()"
      ],
      "execution_count": 11,
      "outputs": [
        {
          "output_type": "execute_result",
          "data": {
            "text/html": [
              "<div>\n",
              "<style scoped>\n",
              "    .dataframe tbody tr th:only-of-type {\n",
              "        vertical-align: middle;\n",
              "    }\n",
              "\n",
              "    .dataframe tbody tr th {\n",
              "        vertical-align: top;\n",
              "    }\n",
              "\n",
              "    .dataframe thead th {\n",
              "        text-align: right;\n",
              "    }\n",
              "</style>\n",
              "<table border=\"1\" class=\"dataframe\">\n",
              "  <thead>\n",
              "    <tr style=\"text-align: right;\">\n",
              "      <th></th>\n",
              "      <th>cad0</th>\n",
              "      <th>cad1</th>\n",
              "      <th>cad2</th>\n",
              "      <th>cad3</th>\n",
              "      <th>cad4</th>\n",
              "      <th>cad5</th>\n",
              "      <th>cad6</th>\n",
              "      <th>cad7</th>\n",
              "      <th>cad8</th>\n",
              "      <th>cad9</th>\n",
              "      <th>dv0</th>\n",
              "      <th>dv1</th>\n",
              "      <th>dv2</th>\n",
              "      <th>dv3</th>\n",
              "      <th>dv4</th>\n",
              "    </tr>\n",
              "  </thead>\n",
              "  <tbody>\n",
              "    <tr>\n",
              "      <th>0</th>\n",
              "      <td>0</td>\n",
              "      <td>0</td>\n",
              "      <td>0</td>\n",
              "      <td>1</td>\n",
              "      <td>1</td>\n",
              "      <td>1</td>\n",
              "      <td>1</td>\n",
              "      <td>1</td>\n",
              "      <td>1</td>\n",
              "      <td>1</td>\n",
              "      <td>1</td>\n",
              "      <td>1</td>\n",
              "      <td>0</td>\n",
              "      <td>1</td>\n",
              "      <td>0</td>\n",
              "    </tr>\n",
              "    <tr>\n",
              "      <th>1</th>\n",
              "      <td>1</td>\n",
              "      <td>0</td>\n",
              "      <td>0</td>\n",
              "      <td>0</td>\n",
              "      <td>0</td>\n",
              "      <td>1</td>\n",
              "      <td>1</td>\n",
              "      <td>1</td>\n",
              "      <td>1</td>\n",
              "      <td>0</td>\n",
              "      <td>1</td>\n",
              "      <td>1</td>\n",
              "      <td>0</td>\n",
              "      <td>1</td>\n",
              "      <td>0</td>\n",
              "    </tr>\n",
              "    <tr>\n",
              "      <th>2</th>\n",
              "      <td>0</td>\n",
              "      <td>0</td>\n",
              "      <td>0</td>\n",
              "      <td>0</td>\n",
              "      <td>1</td>\n",
              "      <td>1</td>\n",
              "      <td>1</td>\n",
              "      <td>1</td>\n",
              "      <td>1</td>\n",
              "      <td>1</td>\n",
              "      <td>0</td>\n",
              "      <td>0</td>\n",
              "      <td>1</td>\n",
              "      <td>1</td>\n",
              "      <td>0</td>\n",
              "    </tr>\n",
              "    <tr>\n",
              "      <th>3</th>\n",
              "      <td>1</td>\n",
              "      <td>0</td>\n",
              "      <td>0</td>\n",
              "      <td>0</td>\n",
              "      <td>0</td>\n",
              "      <td>1</td>\n",
              "      <td>1</td>\n",
              "      <td>1</td>\n",
              "      <td>1</td>\n",
              "      <td>0</td>\n",
              "      <td>0</td>\n",
              "      <td>0</td>\n",
              "      <td>0</td>\n",
              "      <td>1</td>\n",
              "      <td>0</td>\n",
              "    </tr>\n",
              "    <tr>\n",
              "      <th>4</th>\n",
              "      <td>0</td>\n",
              "      <td>0</td>\n",
              "      <td>0</td>\n",
              "      <td>1</td>\n",
              "      <td>1</td>\n",
              "      <td>1</td>\n",
              "      <td>1</td>\n",
              "      <td>0</td>\n",
              "      <td>1</td>\n",
              "      <td>1</td>\n",
              "      <td>1</td>\n",
              "      <td>1</td>\n",
              "      <td>0</td>\n",
              "      <td>1</td>\n",
              "      <td>0</td>\n",
              "    </tr>\n",
              "  </tbody>\n",
              "</table>\n",
              "</div>"
            ],
            "text/plain": [
              "   cad0  cad1  cad2  cad3  cad4  cad5  ...  cad9  dv0  dv1  dv2  dv3  dv4\n",
              "0     0     0     0     1     1     1  ...     1    1    1    0    1    0\n",
              "1     1     0     0     0     0     1  ...     0    1    1    0    1    0\n",
              "2     0     0     0     0     1     1  ...     1    0    0    1    1    0\n",
              "3     1     0     0     0     0     1  ...     0    0    0    0    1    0\n",
              "4     0     0     0     1     1     1  ...     1    1    1    0    1    0\n",
              "\n",
              "[5 rows x 15 columns]"
            ]
          },
          "metadata": {
            "tags": []
          },
          "execution_count": 11
        }
      ]
    },
    {
      "cell_type": "code",
      "metadata": {
        "id": "jx-itPTaGJMA",
        "colab_type": "code",
        "colab": {}
      },
      "source": [
        ""
      ],
      "execution_count": 0,
      "outputs": []
    },
    {
      "cell_type": "code",
      "metadata": {
        "id": "8abLi1JwLBUc",
        "colab_type": "code",
        "outputId": "0b7579f6-0d92-4d2f-9f20-ed81a2ce6a44",
        "colab": {
          "base_uri": "https://localhost:8080/",
          "height": 35
        }
      },
      "source": [
        "\"\"\"\n",
        "for downloading dataframes\n",
        "from google.colab import files\n",
        "\n",
        "df_easy = z.drop(['index_c'], 1)\n",
        "df_easy.to_csv('df_easy.csv')\n",
        "files.download('df_easy.csv')\n",
        "\"\"\""
      ],
      "execution_count": 12,
      "outputs": [
        {
          "output_type": "execute_result",
          "data": {
            "text/plain": [
              "\"\\nfor downloading dataframes\\nfrom google.colab import files\\n\\ndf_easy = z.drop(['index_c'], 1)\\ndf_easy.to_csv('df_easy.csv')\\nfiles.download('df_easy.csv')\\n\""
            ]
          },
          "metadata": {
            "tags": []
          },
          "execution_count": 12
        }
      ]
    },
    {
      "cell_type": "markdown",
      "metadata": {
        "id": "2GGwy0T4xvNm",
        "colab_type": "text"
      },
      "source": [
        "# Begin KMeans Clustering"
      ]
    },
    {
      "cell_type": "code",
      "metadata": {
        "id": "Zmji6h8HxoNv",
        "colab_type": "code",
        "colab": {}
      },
      "source": [
        "# Prep dataframe for kmeans\n",
        "from sklearn.cluster import KMeans\n",
        "df = z.drop(['cadre','index_c', 'target'], 1)"
      ],
      "execution_count": 0,
      "outputs": []
    },
    {
      "cell_type": "code",
      "metadata": {
        "id": "025iNJNMx2_K",
        "colab_type": "code",
        "colab": {}
      },
      "source": [
        "sum_sq = {}\n",
        "for k in range(1,40):\n",
        "    kmeans = KMeans(n_clusters = k).fit(df_binary)\n",
        "    sum_sq[k] = kmeans.inertia_"
      ],
      "execution_count": 0,
      "outputs": []
    },
    {
      "cell_type": "code",
      "metadata": {
        "id": "-pBnfwJjx3Wx",
        "colab_type": "code",
        "outputId": "51345c4a-c38a-4d45-dec9-0cdefe229af3",
        "colab": {
          "base_uri": "https://localhost:8080/",
          "height": 287
        }
      },
      "source": [
        "# plot elbow graph\n",
        "plt.plot(list(sum_sq.keys()),\n",
        "         list(sum_sq.values()),\n",
        "        linestyle = '-',\n",
        "        marker = 'H',\n",
        "        markersize = 2,\n",
        "        markerfacecolor = 'red')"
      ],
      "execution_count": 15,
      "outputs": [
        {
          "output_type": "execute_result",
          "data": {
            "text/plain": [
              "[<matplotlib.lines.Line2D at 0x7fbd431661d0>]"
            ]
          },
          "metadata": {
            "tags": []
          },
          "execution_count": 15
        },
        {
          "output_type": "display_data",
          "data": {
            "image/png": "[encoded data removed]",
            "text/plain": [
              "<Figure size 432x288 with 1 Axes>"
            ]
          },
          "metadata": {
            "tags": []
          }
        }
      ]
    },
    {
      "cell_type": "markdown",
      "metadata": {
        "id": "t8l7uGuJyqY0",
        "colab_type": "text"
      },
      "source": [
        "From the figure above, we see that the optimum number of clusters goes beyond 30 which could have implications for analysis."
      ]
    },
    {
      "cell_type": "code",
      "metadata": {
        "id": "GQ_sMY1ByTLc",
        "colab_type": "code",
        "outputId": "69462638-df9c-4b76-b2c7-b76c29c0ebf1",
        "colab": {
          "base_uri": "https://localhost:8080/",
          "height": 204
        }
      },
      "source": [
        "# Append clusters to dataframe\n",
        "kmeans = KMeans(n_clusters = 10)\n",
        "kmeans.fit(df_binary)\n",
        "df_binary[\"kmeans\"] = kmeans.labels_\n",
        "df_binary.head()"
      ],
      "execution_count": 16,
      "outputs": [
        {
          "output_type": "execute_result",
          "data": {
            "text/html": [
              "<div>\n",
              "<style scoped>\n",
              "    .dataframe tbody tr th:only-of-type {\n",
              "        vertical-align: middle;\n",
              "    }\n",
              "\n",
              "    .dataframe tbody tr th {\n",
              "        vertical-align: top;\n",
              "    }\n",
              "\n",
              "    .dataframe thead th {\n",
              "        text-align: right;\n",
              "    }\n",
              "</style>\n",
              "<table border=\"1\" class=\"dataframe\">\n",
              "  <thead>\n",
              "    <tr style=\"text-align: right;\">\n",
              "      <th></th>\n",
              "      <th>cad0</th>\n",
              "      <th>cad1</th>\n",
              "      <th>cad2</th>\n",
              "      <th>cad3</th>\n",
              "      <th>cad4</th>\n",
              "      <th>cad5</th>\n",
              "      <th>cad6</th>\n",
              "      <th>cad7</th>\n",
              "      <th>cad8</th>\n",
              "      <th>cad9</th>\n",
              "      <th>dv0</th>\n",
              "      <th>dv1</th>\n",
              "      <th>dv2</th>\n",
              "      <th>dv3</th>\n",
              "      <th>dv4</th>\n",
              "      <th>kmeans</th>\n",
              "    </tr>\n",
              "  </thead>\n",
              "  <tbody>\n",
              "    <tr>\n",
              "      <th>0</th>\n",
              "      <td>0</td>\n",
              "      <td>0</td>\n",
              "      <td>0</td>\n",
              "      <td>1</td>\n",
              "      <td>1</td>\n",
              "      <td>1</td>\n",
              "      <td>1</td>\n",
              "      <td>1</td>\n",
              "      <td>1</td>\n",
              "      <td>1</td>\n",
              "      <td>1</td>\n",
              "      <td>1</td>\n",
              "      <td>0</td>\n",
              "      <td>1</td>\n",
              "      <td>0</td>\n",
              "      <td>8</td>\n",
              "    </tr>\n",
              "    <tr>\n",
              "      <th>1</th>\n",
              "      <td>1</td>\n",
              "      <td>0</td>\n",
              "      <td>0</td>\n",
              "      <td>0</td>\n",
              "      <td>0</td>\n",
              "      <td>1</td>\n",
              "      <td>1</td>\n",
              "      <td>1</td>\n",
              "      <td>1</td>\n",
              "      <td>0</td>\n",
              "      <td>1</td>\n",
              "      <td>1</td>\n",
              "      <td>0</td>\n",
              "      <td>1</td>\n",
              "      <td>0</td>\n",
              "      <td>8</td>\n",
              "    </tr>\n",
              "    <tr>\n",
              "      <th>2</th>\n",
              "      <td>0</td>\n",
              "      <td>0</td>\n",
              "      <td>0</td>\n",
              "      <td>0</td>\n",
              "      <td>1</td>\n",
              "      <td>1</td>\n",
              "      <td>1</td>\n",
              "      <td>1</td>\n",
              "      <td>1</td>\n",
              "      <td>1</td>\n",
              "      <td>0</td>\n",
              "      <td>0</td>\n",
              "      <td>1</td>\n",
              "      <td>1</td>\n",
              "      <td>0</td>\n",
              "      <td>3</td>\n",
              "    </tr>\n",
              "    <tr>\n",
              "      <th>3</th>\n",
              "      <td>1</td>\n",
              "      <td>0</td>\n",
              "      <td>0</td>\n",
              "      <td>0</td>\n",
              "      <td>0</td>\n",
              "      <td>1</td>\n",
              "      <td>1</td>\n",
              "      <td>1</td>\n",
              "      <td>1</td>\n",
              "      <td>0</td>\n",
              "      <td>0</td>\n",
              "      <td>0</td>\n",
              "      <td>0</td>\n",
              "      <td>1</td>\n",
              "      <td>0</td>\n",
              "      <td>7</td>\n",
              "    </tr>\n",
              "    <tr>\n",
              "      <th>4</th>\n",
              "      <td>0</td>\n",
              "      <td>0</td>\n",
              "      <td>0</td>\n",
              "      <td>1</td>\n",
              "      <td>1</td>\n",
              "      <td>1</td>\n",
              "      <td>1</td>\n",
              "      <td>0</td>\n",
              "      <td>1</td>\n",
              "      <td>1</td>\n",
              "      <td>1</td>\n",
              "      <td>1</td>\n",
              "      <td>0</td>\n",
              "      <td>1</td>\n",
              "      <td>0</td>\n",
              "      <td>8</td>\n",
              "    </tr>\n",
              "  </tbody>\n",
              "</table>\n",
              "</div>"
            ],
            "text/plain": [
              "   cad0  cad1  cad2  cad3  cad4  cad5  ...  dv0  dv1  dv2  dv3  dv4  kmeans\n",
              "0     0     0     0     1     1     1  ...    1    1    0    1    0       8\n",
              "1     1     0     0     0     0     1  ...    1    1    0    1    0       8\n",
              "2     0     0     0     0     1     1  ...    0    0    1    1    0       3\n",
              "3     1     0     0     0     0     1  ...    0    0    0    1    0       7\n",
              "4     0     0     0     1     1     1  ...    1    1    0    1    0       8\n",
              "\n",
              "[5 rows x 16 columns]"
            ]
          },
          "metadata": {
            "tags": []
          },
          "execution_count": 16
        }
      ]
    },
    {
      "cell_type": "code",
      "metadata": {
        "id": "QYUM48EjTUVj",
        "colab_type": "code",
        "outputId": "7f6b364a-57ff-457a-978a-a51e2ccf1b41",
        "colab": {
          "base_uri": "https://localhost:8080/",
          "height": 204
        }
      },
      "source": [
        "df_binary[\"target\"] = z['target']\n",
        "df_binary.head()"
      ],
      "execution_count": 17,
      "outputs": [
        {
          "output_type": "execute_result",
          "data": {
            "text/html": [
              "<div>\n",
              "<style scoped>\n",
              "    .dataframe tbody tr th:only-of-type {\n",
              "        vertical-align: middle;\n",
              "    }\n",
              "\n",
              "    .dataframe tbody tr th {\n",
              "        vertical-align: top;\n",
              "    }\n",
              "\n",
              "    .dataframe thead th {\n",
              "        text-align: right;\n",
              "    }\n",
              "</style>\n",
              "<table border=\"1\" class=\"dataframe\">\n",
              "  <thead>\n",
              "    <tr style=\"text-align: right;\">\n",
              "      <th></th>\n",
              "      <th>cad0</th>\n",
              "      <th>cad1</th>\n",
              "      <th>cad2</th>\n",
              "      <th>cad3</th>\n",
              "      <th>cad4</th>\n",
              "      <th>cad5</th>\n",
              "      <th>cad6</th>\n",
              "      <th>cad7</th>\n",
              "      <th>cad8</th>\n",
              "      <th>cad9</th>\n",
              "      <th>dv0</th>\n",
              "      <th>dv1</th>\n",
              "      <th>dv2</th>\n",
              "      <th>dv3</th>\n",
              "      <th>dv4</th>\n",
              "      <th>kmeans</th>\n",
              "      <th>target</th>\n",
              "    </tr>\n",
              "  </thead>\n",
              "  <tbody>\n",
              "    <tr>\n",
              "      <th>0</th>\n",
              "      <td>0</td>\n",
              "      <td>0</td>\n",
              "      <td>0</td>\n",
              "      <td>1</td>\n",
              "      <td>1</td>\n",
              "      <td>1</td>\n",
              "      <td>1</td>\n",
              "      <td>1</td>\n",
              "      <td>1</td>\n",
              "      <td>1</td>\n",
              "      <td>1</td>\n",
              "      <td>1</td>\n",
              "      <td>0</td>\n",
              "      <td>1</td>\n",
              "      <td>0</td>\n",
              "      <td>8</td>\n",
              "      <td>1</td>\n",
              "    </tr>\n",
              "    <tr>\n",
              "      <th>1</th>\n",
              "      <td>1</td>\n",
              "      <td>0</td>\n",
              "      <td>0</td>\n",
              "      <td>0</td>\n",
              "      <td>0</td>\n",
              "      <td>1</td>\n",
              "      <td>1</td>\n",
              "      <td>1</td>\n",
              "      <td>1</td>\n",
              "      <td>0</td>\n",
              "      <td>1</td>\n",
              "      <td>1</td>\n",
              "      <td>0</td>\n",
              "      <td>1</td>\n",
              "      <td>0</td>\n",
              "      <td>8</td>\n",
              "      <td>1</td>\n",
              "    </tr>\n",
              "    <tr>\n",
              "      <th>2</th>\n",
              "      <td>0</td>\n",
              "      <td>0</td>\n",
              "      <td>0</td>\n",
              "      <td>0</td>\n",
              "      <td>1</td>\n",
              "      <td>1</td>\n",
              "      <td>1</td>\n",
              "      <td>1</td>\n",
              "      <td>1</td>\n",
              "      <td>1</td>\n",
              "      <td>0</td>\n",
              "      <td>0</td>\n",
              "      <td>1</td>\n",
              "      <td>1</td>\n",
              "      <td>0</td>\n",
              "      <td>3</td>\n",
              "      <td>0</td>\n",
              "    </tr>\n",
              "    <tr>\n",
              "      <th>3</th>\n",
              "      <td>1</td>\n",
              "      <td>0</td>\n",
              "      <td>0</td>\n",
              "      <td>0</td>\n",
              "      <td>0</td>\n",
              "      <td>1</td>\n",
              "      <td>1</td>\n",
              "      <td>1</td>\n",
              "      <td>1</td>\n",
              "      <td>0</td>\n",
              "      <td>0</td>\n",
              "      <td>0</td>\n",
              "      <td>0</td>\n",
              "      <td>1</td>\n",
              "      <td>0</td>\n",
              "      <td>7</td>\n",
              "      <td>1</td>\n",
              "    </tr>\n",
              "    <tr>\n",
              "      <th>4</th>\n",
              "      <td>0</td>\n",
              "      <td>0</td>\n",
              "      <td>0</td>\n",
              "      <td>1</td>\n",
              "      <td>1</td>\n",
              "      <td>1</td>\n",
              "      <td>1</td>\n",
              "      <td>0</td>\n",
              "      <td>1</td>\n",
              "      <td>1</td>\n",
              "      <td>1</td>\n",
              "      <td>1</td>\n",
              "      <td>0</td>\n",
              "      <td>1</td>\n",
              "      <td>0</td>\n",
              "      <td>8</td>\n",
              "      <td>1</td>\n",
              "    </tr>\n",
              "  </tbody>\n",
              "</table>\n",
              "</div>"
            ],
            "text/plain": [
              "   cad0  cad1  cad2  cad3  cad4  cad5  ...  dv1  dv2  dv3  dv4  kmeans  target\n",
              "0     0     0     0     1     1     1  ...    1    0    1    0       8       1\n",
              "1     1     0     0     0     0     1  ...    1    0    1    0       8       1\n",
              "2     0     0     0     0     1     1  ...    0    1    1    0       3       0\n",
              "3     1     0     0     0     0     1  ...    0    0    1    0       7       1\n",
              "4     0     0     0     1     1     1  ...    1    0    1    0       8       1\n",
              "\n",
              "[5 rows x 17 columns]"
            ]
          },
          "metadata": {
            "tags": []
          },
          "execution_count": 17
        }
      ]
    },
    {
      "cell_type": "code",
      "metadata": {
        "id": "suKCoKJJzWAC",
        "colab_type": "code",
        "outputId": "dba26062-a41b-479b-854b-aea84c3185af",
        "colab": {
          "base_uri": "https://localhost:8080/",
          "height": 204
        }
      },
      "source": [
        "# also we need to append kmeans clusters to dataframe z\n",
        "z[\"kmeans\"] = kmeans.labels_\n",
        "z.head()"
      ],
      "execution_count": 18,
      "outputs": [
        {
          "output_type": "execute_result",
          "data": {
            "text/html": [
              "<div>\n",
              "<style scoped>\n",
              "    .dataframe tbody tr th:only-of-type {\n",
              "        vertical-align: middle;\n",
              "    }\n",
              "\n",
              "    .dataframe tbody tr th {\n",
              "        vertical-align: top;\n",
              "    }\n",
              "\n",
              "    .dataframe thead th {\n",
              "        text-align: right;\n",
              "    }\n",
              "</style>\n",
              "<table border=\"1\" class=\"dataframe\">\n",
              "  <thead>\n",
              "    <tr style=\"text-align: right;\">\n",
              "      <th></th>\n",
              "      <th>cad0</th>\n",
              "      <th>cad1</th>\n",
              "      <th>cad2</th>\n",
              "      <th>cad3</th>\n",
              "      <th>cad4</th>\n",
              "      <th>cad5</th>\n",
              "      <th>cad6</th>\n",
              "      <th>cad7</th>\n",
              "      <th>cad8</th>\n",
              "      <th>cad9</th>\n",
              "      <th>cadre</th>\n",
              "      <th>index_c</th>\n",
              "      <th>dv0</th>\n",
              "      <th>dv1</th>\n",
              "      <th>dv2</th>\n",
              "      <th>dv3</th>\n",
              "      <th>dv4</th>\n",
              "      <th>target</th>\n",
              "      <th>kmeans</th>\n",
              "    </tr>\n",
              "  </thead>\n",
              "  <tbody>\n",
              "    <tr>\n",
              "      <th>0</th>\n",
              "      <td>-4.482410</td>\n",
              "      <td>-4.619843</td>\n",
              "      <td>-0.997349</td>\n",
              "      <td>0.566676</td>\n",
              "      <td>2.126565</td>\n",
              "      <td>1.777562</td>\n",
              "      <td>3.996400</td>\n",
              "      <td>0.529722</td>\n",
              "      <td>5.346935</td>\n",
              "      <td>2.831843</td>\n",
              "      <td>0</td>\n",
              "      <td>0</td>\n",
              "      <td>5.784785</td>\n",
              "      <td>6.177201</td>\n",
              "      <td>-5.189262</td>\n",
              "      <td>6.070376</td>\n",
              "      <td>-5.898889</td>\n",
              "      <td>1</td>\n",
              "      <td>8</td>\n",
              "    </tr>\n",
              "    <tr>\n",
              "      <th>1</th>\n",
              "      <td>1.477593</td>\n",
              "      <td>-3.269475</td>\n",
              "      <td>-0.234938</td>\n",
              "      <td>-0.763632</td>\n",
              "      <td>-0.596139</td>\n",
              "      <td>0.075753</td>\n",
              "      <td>6.446434</td>\n",
              "      <td>0.518770</td>\n",
              "      <td>5.242586</td>\n",
              "      <td>-4.823776</td>\n",
              "      <td>0</td>\n",
              "      <td>0</td>\n",
              "      <td>5.784785</td>\n",
              "      <td>6.177201</td>\n",
              "      <td>-5.189262</td>\n",
              "      <td>6.070376</td>\n",
              "      <td>-5.898889</td>\n",
              "      <td>1</td>\n",
              "      <td>8</td>\n",
              "    </tr>\n",
              "    <tr>\n",
              "      <th>2</th>\n",
              "      <td>-4.275286</td>\n",
              "      <td>-2.881474</td>\n",
              "      <td>-2.370080</td>\n",
              "      <td>-0.983635</td>\n",
              "      <td>0.938040</td>\n",
              "      <td>0.678835</td>\n",
              "      <td>3.397562</td>\n",
              "      <td>0.145567</td>\n",
              "      <td>3.981830</td>\n",
              "      <td>3.362928</td>\n",
              "      <td>0</td>\n",
              "      <td>1</td>\n",
              "      <td>-7.783252</td>\n",
              "      <td>-5.636362</td>\n",
              "      <td>5.250647</td>\n",
              "      <td>5.624133</td>\n",
              "      <td>-6.060853</td>\n",
              "      <td>0</td>\n",
              "      <td>3</td>\n",
              "    </tr>\n",
              "    <tr>\n",
              "      <th>3</th>\n",
              "      <td>2.775304</td>\n",
              "      <td>-2.224774</td>\n",
              "      <td>-1.369726</td>\n",
              "      <td>-0.906824</td>\n",
              "      <td>-0.686132</td>\n",
              "      <td>0.601892</td>\n",
              "      <td>4.045526</td>\n",
              "      <td>1.985196</td>\n",
              "      <td>3.116355</td>\n",
              "      <td>-3.835390</td>\n",
              "      <td>0</td>\n",
              "      <td>2</td>\n",
              "      <td>-6.179748</td>\n",
              "      <td>-5.222403</td>\n",
              "      <td>-4.925779</td>\n",
              "      <td>6.182969</td>\n",
              "      <td>-6.919294</td>\n",
              "      <td>1</td>\n",
              "      <td>7</td>\n",
              "    </tr>\n",
              "    <tr>\n",
              "      <th>4</th>\n",
              "      <td>-3.144241</td>\n",
              "      <td>-3.155927</td>\n",
              "      <td>-0.103750</td>\n",
              "      <td>0.712932</td>\n",
              "      <td>1.052544</td>\n",
              "      <td>0.615533</td>\n",
              "      <td>3.637596</td>\n",
              "      <td>-0.801713</td>\n",
              "      <td>2.217286</td>\n",
              "      <td>4.895699</td>\n",
              "      <td>0</td>\n",
              "      <td>3</td>\n",
              "      <td>7.143124</td>\n",
              "      <td>5.980376</td>\n",
              "      <td>-5.985737</td>\n",
              "      <td>6.742185</td>\n",
              "      <td>-5.723161</td>\n",
              "      <td>1</td>\n",
              "      <td>8</td>\n",
              "    </tr>\n",
              "  </tbody>\n",
              "</table>\n",
              "</div>"
            ],
            "text/plain": [
              "       cad0      cad1      cad2      cad3  ...       dv3       dv4  target  kmeans\n",
              "0 -4.482410 -4.619843 -0.997349  0.566676  ...  6.070376 -5.898889       1       8\n",
              "1  1.477593 -3.269475 -0.234938 -0.763632  ...  6.070376 -5.898889       1       8\n",
              "2 -4.275286 -2.881474 -2.370080 -0.983635  ...  5.624133 -6.060853       0       3\n",
              "3  2.775304 -2.224774 -1.369726 -0.906824  ...  6.182969 -6.919294       1       7\n",
              "4 -3.144241 -3.155927 -0.103750  0.712932  ...  6.742185 -5.723161       1       8\n",
              "\n",
              "[5 rows x 19 columns]"
            ]
          },
          "metadata": {
            "tags": []
          },
          "execution_count": 18
        }
      ]
    },
    {
      "cell_type": "markdown",
      "metadata": {
        "id": "okq7AgtNGG3f",
        "colab_type": "text"
      },
      "source": [
        "# Regular Logistic Regression"
      ]
    },
    {
      "cell_type": "markdown",
      "metadata": {
        "id": "XU1GvYYMGL3M",
        "colab_type": "text"
      },
      "source": [
        "Now, we test a cadre-based regression to determine the accuracy of the logit regression tool. This will help us compare results with other tools later on"
      ]
    },
    {
      "cell_type": "code",
      "metadata": {
        "id": "h2u3SVtk-gse",
        "colab_type": "code",
        "outputId": "12dd7172-ce86-410c-d184-7e9aa61bc486",
        "colab": {
          "base_uri": "https://localhost:8080/",
          "height": 1000
        }
      },
      "source": [
        "# import Logistic Regression Module\n",
        "from sklearn.linear_model import LogisticRegression\n",
        "from sklearn import metrics\n",
        "from sklearn.metrics import classification_report\n",
        "from sklearn.metrics import confusion_matrix\n",
        "lr = LogisticRegression()\n",
        "\n",
        "#Test Cadre\n",
        "kmeans = 10\n",
        "for k in range(kmeans):\n",
        "\n",
        "    y_cadre = df_binary['target']\n",
        "    print(\"regression for cadre \", k)\n",
        "\n",
        "    # Drop row/observation from dataset if cadre == t\n",
        "    cadre = df_binary[df_binary.kmeans == k] \n",
        "\n",
        "    # Select X features for cadre t\n",
        "    X_cadre = cadre.drop(['target', 'kmeans'], axis=1) \n",
        "    print (X_cadre.shape)\n",
        "    # Select y features for cadre t\n",
        "    y_cadre = cadre['target'] \n",
        "   \n",
        "\n",
        "    # Run logistic regression\n",
        "    X_train, X_test, y_train, y_test = train_test_split(X_cadre, y_cadre, test_size=0.2, random_state=101)\n",
        "    \n",
        "    # check to see if target column has only one unique value(ie. 0 and 1)\n",
        "    if len(y_train.unique()) == 1:\n",
        "      print (\"all one class\")\n",
        "    \n",
        "    elif len(y_test.unique()) == 1:\n",
        "      print (\"all one class\")\n",
        "    \n",
        "    # ignore if target column has only one unique value(ie. 0 and 1)\n",
        "    else:\n",
        "      fit = lr.fit(X_train, y_train)\n",
        "\n",
        "      #test accuracy of predictions\n",
        "      y_train_pred = fit.predict(X_train)\n",
        "      y_test_pred = fit.predict(X_test)\n",
        "      \n",
        "      print(\"cadre\", k, \"train\", classification_report(y_train, y_train_pred))\n",
        "      print(classification_report(y_test, y_test_pred))\n",
        "      print (X_train.shape)"
      ],
      "execution_count": 19,
      "outputs": [
        {
          "output_type": "stream",
          "text": [
            "regression for cadre  0\n",
            "(147, 15)\n",
            "all one class\n",
            "regression for cadre  1\n",
            "(146, 15)\n",
            "all one class\n",
            "regression for cadre  2\n",
            "(50, 15)\n",
            "cadre 2 train               precision    recall  f1-score   support\n",
            "\n",
            "           0       1.00      1.00      1.00        15\n",
            "           1       1.00      1.00      1.00        25\n",
            "\n",
            "    accuracy                           1.00        40\n",
            "   macro avg       1.00      1.00      1.00        40\n",
            "weighted avg       1.00      1.00      1.00        40\n",
            "\n",
            "              precision    recall  f1-score   support\n",
            "\n",
            "           0       1.00      1.00      1.00         3\n",
            "           1       1.00      1.00      1.00         7\n",
            "\n",
            "    accuracy                           1.00        10\n",
            "   macro avg       1.00      1.00      1.00        10\n",
            "weighted avg       1.00      1.00      1.00        10\n",
            "\n",
            "(40, 15)\n",
            "regression for cadre  3\n",
            "(60, 15)\n",
            "cadre 3 train               precision    recall  f1-score   support\n",
            "\n",
            "           0       1.00      1.00      1.00        32\n",
            "           1       1.00      1.00      1.00        16\n",
            "\n",
            "    accuracy                           1.00        48\n",
            "   macro avg       1.00      1.00      1.00        48\n",
            "weighted avg       1.00      1.00      1.00        48\n",
            "\n",
            "              precision    recall  f1-score   support\n",
            "\n",
            "           0       1.00      1.00      1.00         9\n",
            "           1       1.00      1.00      1.00         3\n",
            "\n",
            "    accuracy                           1.00        12\n",
            "   macro avg       1.00      1.00      1.00        12\n",
            "weighted avg       1.00      1.00      1.00        12\n",
            "\n",
            "(48, 15)\n",
            "regression for cadre  4\n",
            "(100, 15)\n",
            "cadre 4 train               precision    recall  f1-score   support\n",
            "\n",
            "           0       0.97      0.97      0.97        36\n",
            "           1       0.98      0.98      0.98        44\n",
            "\n",
            "    accuracy                           0.97        80\n",
            "   macro avg       0.97      0.97      0.97        80\n",
            "weighted avg       0.97      0.97      0.97        80\n",
            "\n",
            "              precision    recall  f1-score   support\n",
            "\n",
            "           0       1.00      1.00      1.00        14\n",
            "           1       1.00      1.00      1.00         6\n",
            "\n",
            "    accuracy                           1.00        20\n",
            "   macro avg       1.00      1.00      1.00        20\n",
            "weighted avg       1.00      1.00      1.00        20\n",
            "\n",
            "(80, 15)\n",
            "regression for cadre  5\n",
            "(103, 15)\n",
            "cadre 5 train               precision    recall  f1-score   support\n",
            "\n",
            "           0       1.00      0.98      0.99        42\n",
            "           1       0.98      1.00      0.99        40\n",
            "\n",
            "    accuracy                           0.99        82\n",
            "   macro avg       0.99      0.99      0.99        82\n",
            "weighted avg       0.99      0.99      0.99        82\n",
            "\n",
            "              precision    recall  f1-score   support\n",
            "\n",
            "           0       1.00      1.00      1.00        11\n",
            "           1       1.00      1.00      1.00        10\n",
            "\n",
            "    accuracy                           1.00        21\n",
            "   macro avg       1.00      1.00      1.00        21\n",
            "weighted avg       1.00      1.00      1.00        21\n",
            "\n",
            "(82, 15)\n",
            "regression for cadre  6\n",
            "(79, 15)\n",
            "cadre 6 train               precision    recall  f1-score   support\n",
            "\n",
            "           0       1.00      0.96      0.98        24\n",
            "           1       0.97      1.00      0.99        39\n",
            "\n",
            "    accuracy                           0.98        63\n",
            "   macro avg       0.99      0.98      0.98        63\n",
            "weighted avg       0.98      0.98      0.98        63\n",
            "\n",
            "              precision    recall  f1-score   support\n",
            "\n",
            "           0       1.00      1.00      1.00         6\n",
            "           1       1.00      1.00      1.00        10\n",
            "\n",
            "    accuracy                           1.00        16\n",
            "   macro avg       1.00      1.00      1.00        16\n",
            "weighted avg       1.00      1.00      1.00        16\n",
            "\n",
            "(63, 15)\n",
            "regression for cadre  7\n",
            "(90, 15)\n",
            "cadre 7 train               precision    recall  f1-score   support\n",
            "\n",
            "           0       1.00      1.00      1.00        48\n",
            "           1       1.00      1.00      1.00        24\n",
            "\n",
            "    accuracy                           1.00        72\n",
            "   macro avg       1.00      1.00      1.00        72\n",
            "weighted avg       1.00      1.00      1.00        72\n",
            "\n",
            "              precision    recall  f1-score   support\n",
            "\n",
            "           0       1.00      1.00      1.00        11\n",
            "           1       1.00      1.00      1.00         7\n",
            "\n",
            "    accuracy                           1.00        18\n",
            "   macro avg       1.00      1.00      1.00        18\n",
            "weighted avg       1.00      1.00      1.00        18\n",
            "\n",
            "(72, 15)\n",
            "regression for cadre  8\n",
            "(101, 15)\n",
            "cadre 8 train               precision    recall  f1-score   support\n",
            "\n",
            "           0       1.00      0.97      0.99        40\n",
            "           1       0.98      1.00      0.99        40\n",
            "\n",
            "    accuracy                           0.99        80\n",
            "   macro avg       0.99      0.99      0.99        80\n",
            "weighted avg       0.99      0.99      0.99        80\n",
            "\n",
            "              precision    recall  f1-score   support\n",
            "\n",
            "           0       1.00      1.00      1.00        10\n",
            "           1       1.00      1.00      1.00        11\n",
            "\n",
            "    accuracy                           1.00        21\n",
            "   macro avg       1.00      1.00      1.00        21\n",
            "weighted avg       1.00      1.00      1.00        21\n",
            "\n",
            "(80, 15)\n",
            "regression for cadre  9\n",
            "(124, 15)\n",
            "cadre 9 train               precision    recall  f1-score   support\n",
            "\n",
            "           0       1.00      0.98      0.99        41\n",
            "           1       0.98      1.00      0.99        58\n",
            "\n",
            "    accuracy                           0.99        99\n",
            "   macro avg       0.99      0.99      0.99        99\n",
            "weighted avg       0.99      0.99      0.99        99\n",
            "\n",
            "              precision    recall  f1-score   support\n",
            "\n",
            "           0       1.00      0.91      0.95        11\n",
            "           1       0.93      1.00      0.97        14\n",
            "\n",
            "    accuracy                           0.96        25\n",
            "   macro avg       0.97      0.95      0.96        25\n",
            "weighted avg       0.96      0.96      0.96        25\n",
            "\n",
            "(99, 15)\n"
          ],
          "name": "stdout"
        }
      ]
    },
    {
      "cell_type": "markdown",
      "metadata": {
        "id": "TeKRVt2KGuYb",
        "colab_type": "text"
      },
      "source": [
        "In the above cell, we find that accuracy is about 100%. This is not surprising because we manipulated the data to give us this result. The \"make_classification\" module used in the \"DGen.py\" file helped us to do this. In the next cell, we test the same regression model on the entire dataset irrespective of cadres"
      ]
    },
    {
      "cell_type": "code",
      "metadata": {
        "id": "zIKcbWl7HhBQ",
        "colab_type": "code",
        "outputId": "de3ea9c5-ebbe-4d3b-fa9c-821e22e1db7f",
        "colab": {
          "base_uri": "https://localhost:8080/",
          "height": 179
        }
      },
      "source": [
        "data = df_binary.drop(['kmeans'], 1)\n",
        "\n",
        "X = data.drop(['target'], 1)\n",
        "y = data['target']\n",
        "\n",
        "# Run logistic regression\n",
        "X_train, X_test, y_train, y_test = train_test_split(X, y, test_size=0.2, random_state=101)\n",
        "result = lr.fit(X_train, y_train)\n",
        "\n",
        "pred = result.predict(X_test)\n",
        "\n",
        "print(classification_report(y_test, pred))"
      ],
      "execution_count": 20,
      "outputs": [
        {
          "output_type": "stream",
          "text": [
            "              precision    recall  f1-score   support\n",
            "\n",
            "           0       0.82      0.70      0.76       111\n",
            "           1       0.69      0.81      0.74        89\n",
            "\n",
            "    accuracy                           0.75       200\n",
            "   macro avg       0.75      0.76      0.75       200\n",
            "weighted avg       0.76      0.75      0.75       200\n",
            "\n"
          ],
          "name": "stdout"
        }
      ]
    },
    {
      "cell_type": "markdown",
      "metadata": {
        "id": "LK_m4424H-4c",
        "colab_type": "text"
      },
      "source": [
        "In the above cell, regression irrespective of cadres gives us an accuracy of about 75%. This is expected because we anticipate the cadre-based regression to perform better."
      ]
    },
    {
      "cell_type": "code",
      "metadata": {
        "id": "B4_rRppFsj_Z",
        "colab_type": "code",
        "outputId": "f8fb6626-fc9d-440f-d230-684dac26467d",
        "colab": {
          "base_uri": "https://localhost:8080/",
          "height": 315
        }
      },
      "source": [
        "z.groupby('cadre').describe()"
      ],
      "execution_count": 21,
      "outputs": [
        {
          "output_type": "execute_result",
          "data": {
            "text/html": [
              "<div>\n",
              "<style scoped>\n",
              "    .dataframe tbody tr th:only-of-type {\n",
              "        vertical-align: middle;\n",
              "    }\n",
              "\n",
              "    .dataframe tbody tr th {\n",
              "        vertical-align: top;\n",
              "    }\n",
              "\n",
              "    .dataframe thead tr th {\n",
              "        text-align: left;\n",
              "    }\n",
              "\n",
              "    .dataframe thead tr:last-of-type th {\n",
              "        text-align: right;\n",
              "    }\n",
              "</style>\n",
              "<table border=\"1\" class=\"dataframe\">\n",
              "  <thead>\n",
              "    <tr>\n",
              "      <th></th>\n",
              "      <th colspan=\"8\" halign=\"left\">cad0</th>\n",
              "      <th colspan=\"8\" halign=\"left\">cad1</th>\n",
              "      <th colspan=\"8\" halign=\"left\">cad2</th>\n",
              "      <th colspan=\"8\" halign=\"left\">cad3</th>\n",
              "      <th colspan=\"8\" halign=\"left\">cad4</th>\n",
              "      <th>...</th>\n",
              "      <th colspan=\"8\" halign=\"left\">dv2</th>\n",
              "      <th colspan=\"8\" halign=\"left\">dv3</th>\n",
              "      <th colspan=\"8\" halign=\"left\">dv4</th>\n",
              "      <th colspan=\"8\" halign=\"left\">target</th>\n",
              "      <th colspan=\"8\" halign=\"left\">kmeans</th>\n",
              "    </tr>\n",
              "    <tr>\n",
              "      <th></th>\n",
              "      <th>count</th>\n",
              "      <th>mean</th>\n",
              "      <th>std</th>\n",
              "      <th>min</th>\n",
              "      <th>25%</th>\n",
              "      <th>50%</th>\n",
              "      <th>75%</th>\n",
              "      <th>max</th>\n",
              "      <th>count</th>\n",
              "      <th>mean</th>\n",
              "      <th>std</th>\n",
              "      <th>min</th>\n",
              "      <th>25%</th>\n",
              "      <th>50%</th>\n",
              "      <th>75%</th>\n",
              "      <th>max</th>\n",
              "      <th>count</th>\n",
              "      <th>mean</th>\n",
              "      <th>std</th>\n",
              "      <th>min</th>\n",
              "      <th>25%</th>\n",
              "      <th>50%</th>\n",
              "      <th>75%</th>\n",
              "      <th>max</th>\n",
              "      <th>count</th>\n",
              "      <th>mean</th>\n",
              "      <th>std</th>\n",
              "      <th>min</th>\n",
              "      <th>25%</th>\n",
              "      <th>50%</th>\n",
              "      <th>75%</th>\n",
              "      <th>max</th>\n",
              "      <th>count</th>\n",
              "      <th>mean</th>\n",
              "      <th>std</th>\n",
              "      <th>min</th>\n",
              "      <th>25%</th>\n",
              "      <th>50%</th>\n",
              "      <th>75%</th>\n",
              "      <th>max</th>\n",
              "      <th>...</th>\n",
              "      <th>count</th>\n",
              "      <th>mean</th>\n",
              "      <th>std</th>\n",
              "      <th>min</th>\n",
              "      <th>25%</th>\n",
              "      <th>50%</th>\n",
              "      <th>75%</th>\n",
              "      <th>max</th>\n",
              "      <th>count</th>\n",
              "      <th>mean</th>\n",
              "      <th>std</th>\n",
              "      <th>min</th>\n",
              "      <th>25%</th>\n",
              "      <th>50%</th>\n",
              "      <th>75%</th>\n",
              "      <th>max</th>\n",
              "      <th>count</th>\n",
              "      <th>mean</th>\n",
              "      <th>std</th>\n",
              "      <th>min</th>\n",
              "      <th>25%</th>\n",
              "      <th>50%</th>\n",
              "      <th>75%</th>\n",
              "      <th>max</th>\n",
              "      <th>count</th>\n",
              "      <th>mean</th>\n",
              "      <th>std</th>\n",
              "      <th>min</th>\n",
              "      <th>25%</th>\n",
              "      <th>50%</th>\n",
              "      <th>75%</th>\n",
              "      <th>max</th>\n",
              "      <th>count</th>\n",
              "      <th>mean</th>\n",
              "      <th>std</th>\n",
              "      <th>min</th>\n",
              "      <th>25%</th>\n",
              "      <th>50%</th>\n",
              "      <th>75%</th>\n",
              "      <th>max</th>\n",
              "    </tr>\n",
              "    <tr>\n",
              "      <th>cadre</th>\n",
              "      <th></th>\n",
              "      <th></th>\n",
              "      <th></th>\n",
              "      <th></th>\n",
              "      <th></th>\n",
              "      <th></th>\n",
              "      <th></th>\n",
              "      <th></th>\n",
              "      <th></th>\n",
              "      <th></th>\n",
              "      <th></th>\n",
              "      <th></th>\n",
              "      <th></th>\n",
              "      <th></th>\n",
              "      <th></th>\n",
              "      <th></th>\n",
              "      <th></th>\n",
              "      <th></th>\n",
              "      <th></th>\n",
              "      <th></th>\n",
              "      <th></th>\n",
              "      <th></th>\n",
              "      <th></th>\n",
              "      <th></th>\n",
              "      <th></th>\n",
              "      <th></th>\n",
              "      <th></th>\n",
              "      <th></th>\n",
              "      <th></th>\n",
              "      <th></th>\n",
              "      <th></th>\n",
              "      <th></th>\n",
              "      <th></th>\n",
              "      <th></th>\n",
              "      <th></th>\n",
              "      <th></th>\n",
              "      <th></th>\n",
              "      <th></th>\n",
              "      <th></th>\n",
              "      <th></th>\n",
              "      <th></th>\n",
              "      <th></th>\n",
              "      <th></th>\n",
              "      <th></th>\n",
              "      <th></th>\n",
              "      <th></th>\n",
              "      <th></th>\n",
              "      <th></th>\n",
              "      <th></th>\n",
              "      <th></th>\n",
              "      <th></th>\n",
              "      <th></th>\n",
              "      <th></th>\n",
              "      <th></th>\n",
              "      <th></th>\n",
              "      <th></th>\n",
              "      <th></th>\n",
              "      <th></th>\n",
              "      <th></th>\n",
              "      <th></th>\n",
              "      <th></th>\n",
              "      <th></th>\n",
              "      <th></th>\n",
              "      <th></th>\n",
              "      <th></th>\n",
              "      <th></th>\n",
              "      <th></th>\n",
              "      <th></th>\n",
              "      <th></th>\n",
              "      <th></th>\n",
              "      <th></th>\n",
              "      <th></th>\n",
              "      <th></th>\n",
              "      <th></th>\n",
              "      <th></th>\n",
              "      <th></th>\n",
              "      <th></th>\n",
              "      <th></th>\n",
              "      <th></th>\n",
              "      <th></th>\n",
              "      <th></th>\n",
              "    </tr>\n",
              "  </thead>\n",
              "  <tbody>\n",
              "    <tr>\n",
              "      <th>0</th>\n",
              "      <td>201.0</td>\n",
              "      <td>-0.031299</td>\n",
              "      <td>4.298202</td>\n",
              "      <td>-7.058527</td>\n",
              "      <td>-4.183709</td>\n",
              "      <td>0.491360</td>\n",
              "      <td>3.898695</td>\n",
              "      <td>8.494276</td>\n",
              "      <td>201.0</td>\n",
              "      <td>-3.858840</td>\n",
              "      <td>1.451228</td>\n",
              "      <td>-7.989711</td>\n",
              "      <td>-4.824086</td>\n",
              "      <td>-3.921019</td>\n",
              "      <td>-2.857948</td>\n",
              "      <td>0.627914</td>\n",
              "      <td>201.0</td>\n",
              "      <td>0.034784</td>\n",
              "      <td>0.997655</td>\n",
              "      <td>-3.292171</td>\n",
              "      <td>-0.624795</td>\n",
              "      <td>0.087221</td>\n",
              "      <td>0.665948</td>\n",
              "      <td>2.584190</td>\n",
              "      <td>201.0</td>\n",
              "      <td>0.000670</td>\n",
              "      <td>0.990043</td>\n",
              "      <td>-3.106611</td>\n",
              "      <td>-0.658003</td>\n",
              "      <td>-0.062796</td>\n",
              "      <td>0.652247</td>\n",
              "      <td>2.272282</td>\n",
              "      <td>201.0</td>\n",
              "      <td>-0.024353</td>\n",
              "      <td>0.980420</td>\n",
              "      <td>-2.751150</td>\n",
              "      <td>-0.706356</td>\n",
              "      <td>0.017328</td>\n",
              "      <td>0.666852</td>\n",
              "      <td>2.746184</td>\n",
              "      <td>...</td>\n",
              "      <td>201.0</td>\n",
              "      <td>-0.102252</td>\n",
              "      <td>6.154557</td>\n",
              "      <td>-9.350291</td>\n",
              "      <td>-6.112103</td>\n",
              "      <td>-2.543719</td>\n",
              "      <td>5.937811</td>\n",
              "      <td>8.699651</td>\n",
              "      <td>201.0</td>\n",
              "      <td>6.040185</td>\n",
              "      <td>1.500807</td>\n",
              "      <td>1.757147</td>\n",
              "      <td>5.089443</td>\n",
              "      <td>5.887543</td>\n",
              "      <td>6.949020</td>\n",
              "      <td>10.394675</td>\n",
              "      <td>201.0</td>\n",
              "      <td>-2.992275</td>\n",
              "      <td>5.310469</td>\n",
              "      <td>-10.536961</td>\n",
              "      <td>-6.455622</td>\n",
              "      <td>-5.510090</td>\n",
              "      <td>-2.387424</td>\n",
              "      <td>7.414602</td>\n",
              "      <td>201.0</td>\n",
              "      <td>0.502488</td>\n",
              "      <td>0.501242</td>\n",
              "      <td>0.0</td>\n",
              "      <td>0.0</td>\n",
              "      <td>1.0</td>\n",
              "      <td>1.0</td>\n",
              "      <td>1.0</td>\n",
              "      <td>201.0</td>\n",
              "      <td>6.089552</td>\n",
              "      <td>2.040083</td>\n",
              "      <td>3.0</td>\n",
              "      <td>3.00</td>\n",
              "      <td>7.0</td>\n",
              "      <td>8.00</td>\n",
              "      <td>9.0</td>\n",
              "    </tr>\n",
              "    <tr>\n",
              "      <th>1</th>\n",
              "      <td>201.0</td>\n",
              "      <td>0.130477</td>\n",
              "      <td>4.431900</td>\n",
              "      <td>-7.108085</td>\n",
              "      <td>-4.203660</td>\n",
              "      <td>0.439350</td>\n",
              "      <td>4.253706</td>\n",
              "      <td>7.132228</td>\n",
              "      <td>201.0</td>\n",
              "      <td>0.073604</td>\n",
              "      <td>4.141082</td>\n",
              "      <td>-6.142546</td>\n",
              "      <td>-3.694247</td>\n",
              "      <td>-1.224814</td>\n",
              "      <td>3.973181</td>\n",
              "      <td>8.577598</td>\n",
              "      <td>201.0</td>\n",
              "      <td>-0.042276</td>\n",
              "      <td>1.079199</td>\n",
              "      <td>-2.352243</td>\n",
              "      <td>-0.974315</td>\n",
              "      <td>-0.119941</td>\n",
              "      <td>0.668155</td>\n",
              "      <td>2.889061</td>\n",
              "      <td>201.0</td>\n",
              "      <td>0.081829</td>\n",
              "      <td>0.926848</td>\n",
              "      <td>-2.243721</td>\n",
              "      <td>-0.544237</td>\n",
              "      <td>0.031784</td>\n",
              "      <td>0.716706</td>\n",
              "      <td>2.535838</td>\n",
              "      <td>201.0</td>\n",
              "      <td>-0.059765</td>\n",
              "      <td>1.041017</td>\n",
              "      <td>-2.868137</td>\n",
              "      <td>-0.814925</td>\n",
              "      <td>0.020655</td>\n",
              "      <td>0.675735</td>\n",
              "      <td>3.062575</td>\n",
              "      <td>...</td>\n",
              "      <td>201.0</td>\n",
              "      <td>2.997189</td>\n",
              "      <td>5.268094</td>\n",
              "      <td>-8.240974</td>\n",
              "      <td>2.386563</td>\n",
              "      <td>5.459082</td>\n",
              "      <td>6.334774</td>\n",
              "      <td>9.266384</td>\n",
              "      <td>201.0</td>\n",
              "      <td>2.951976</td>\n",
              "      <td>5.384295</td>\n",
              "      <td>-9.290466</td>\n",
              "      <td>2.881044</td>\n",
              "      <td>5.540473</td>\n",
              "      <td>6.339882</td>\n",
              "      <td>10.127601</td>\n",
              "      <td>201.0</td>\n",
              "      <td>3.002152</td>\n",
              "      <td>5.523055</td>\n",
              "      <td>-10.134666</td>\n",
              "      <td>2.621049</td>\n",
              "      <td>5.612523</td>\n",
              "      <td>6.428694</td>\n",
              "      <td>9.244459</td>\n",
              "      <td>201.0</td>\n",
              "      <td>0.502488</td>\n",
              "      <td>0.501242</td>\n",
              "      <td>0.0</td>\n",
              "      <td>0.0</td>\n",
              "      <td>1.0</td>\n",
              "      <td>1.0</td>\n",
              "      <td>1.0</td>\n",
              "      <td>201.0</td>\n",
              "      <td>7.616915</td>\n",
              "      <td>1.355549</td>\n",
              "      <td>3.0</td>\n",
              "      <td>6.00</td>\n",
              "      <td>8.0</td>\n",
              "      <td>9.00</td>\n",
              "      <td>9.0</td>\n",
              "    </tr>\n",
              "    <tr>\n",
              "      <th>2</th>\n",
              "      <td>200.0</td>\n",
              "      <td>-0.069676</td>\n",
              "      <td>4.194419</td>\n",
              "      <td>-6.521632</td>\n",
              "      <td>-4.208975</td>\n",
              "      <td>0.107642</td>\n",
              "      <td>4.009701</td>\n",
              "      <td>5.896408</td>\n",
              "      <td>200.0</td>\n",
              "      <td>4.011029</td>\n",
              "      <td>1.304587</td>\n",
              "      <td>-0.211852</td>\n",
              "      <td>3.214323</td>\n",
              "      <td>3.938816</td>\n",
              "      <td>4.841970</td>\n",
              "      <td>7.707968</td>\n",
              "      <td>200.0</td>\n",
              "      <td>-0.118307</td>\n",
              "      <td>0.966572</td>\n",
              "      <td>-2.922648</td>\n",
              "      <td>-0.678636</td>\n",
              "      <td>-0.086218</td>\n",
              "      <td>0.551891</td>\n",
              "      <td>2.128296</td>\n",
              "      <td>200.0</td>\n",
              "      <td>0.003276</td>\n",
              "      <td>0.971193</td>\n",
              "      <td>-2.657049</td>\n",
              "      <td>-0.569243</td>\n",
              "      <td>0.058888</td>\n",
              "      <td>0.563402</td>\n",
              "      <td>3.243386</td>\n",
              "      <td>200.0</td>\n",
              "      <td>0.085653</td>\n",
              "      <td>1.015121</td>\n",
              "      <td>-2.477027</td>\n",
              "      <td>-0.689462</td>\n",
              "      <td>0.079383</td>\n",
              "      <td>0.781516</td>\n",
              "      <td>2.640866</td>\n",
              "      <td>...</td>\n",
              "      <td>200.0</td>\n",
              "      <td>2.942896</td>\n",
              "      <td>5.399318</td>\n",
              "      <td>-9.744640</td>\n",
              "      <td>1.282649</td>\n",
              "      <td>5.269171</td>\n",
              "      <td>6.555523</td>\n",
              "      <td>10.705268</td>\n",
              "      <td>200.0</td>\n",
              "      <td>-3.165729</td>\n",
              "      <td>5.325886</td>\n",
              "      <td>-9.234960</td>\n",
              "      <td>-6.735534</td>\n",
              "      <td>-5.475266</td>\n",
              "      <td>-1.879450</td>\n",
              "      <td>9.939947</td>\n",
              "      <td>200.0</td>\n",
              "      <td>-0.099918</td>\n",
              "      <td>6.145492</td>\n",
              "      <td>-9.201958</td>\n",
              "      <td>-6.099983</td>\n",
              "      <td>-0.275715</td>\n",
              "      <td>5.930753</td>\n",
              "      <td>9.042249</td>\n",
              "      <td>200.0</td>\n",
              "      <td>0.500000</td>\n",
              "      <td>0.501255</td>\n",
              "      <td>0.0</td>\n",
              "      <td>0.0</td>\n",
              "      <td>0.5</td>\n",
              "      <td>1.0</td>\n",
              "      <td>1.0</td>\n",
              "      <td>200.0</td>\n",
              "      <td>5.205000</td>\n",
              "      <td>2.452150</td>\n",
              "      <td>2.0</td>\n",
              "      <td>4.25</td>\n",
              "      <td>5.0</td>\n",
              "      <td>5.25</td>\n",
              "      <td>9.0</td>\n",
              "    </tr>\n",
              "    <tr>\n",
              "      <th>3</th>\n",
              "      <td>200.0</td>\n",
              "      <td>-4.019848</td>\n",
              "      <td>0.856367</td>\n",
              "      <td>-6.615413</td>\n",
              "      <td>-4.588261</td>\n",
              "      <td>-4.008422</td>\n",
              "      <td>-3.430812</td>\n",
              "      <td>-1.854720</td>\n",
              "      <td>200.0</td>\n",
              "      <td>4.080630</td>\n",
              "      <td>1.664083</td>\n",
              "      <td>-2.306741</td>\n",
              "      <td>3.243691</td>\n",
              "      <td>4.118640</td>\n",
              "      <td>5.044105</td>\n",
              "      <td>9.936877</td>\n",
              "      <td>200.0</td>\n",
              "      <td>0.086875</td>\n",
              "      <td>1.088292</td>\n",
              "      <td>-3.403847</td>\n",
              "      <td>-0.690503</td>\n",
              "      <td>0.110415</td>\n",
              "      <td>0.827008</td>\n",
              "      <td>3.243187</td>\n",
              "      <td>200.0</td>\n",
              "      <td>-0.057101</td>\n",
              "      <td>1.046517</td>\n",
              "      <td>-3.117099</td>\n",
              "      <td>-0.858211</td>\n",
              "      <td>-0.018991</td>\n",
              "      <td>0.641591</td>\n",
              "      <td>2.606300</td>\n",
              "      <td>200.0</td>\n",
              "      <td>0.143117</td>\n",
              "      <td>0.965498</td>\n",
              "      <td>-2.443601</td>\n",
              "      <td>-0.382067</td>\n",
              "      <td>0.188280</td>\n",
              "      <td>0.857387</td>\n",
              "      <td>4.155123</td>\n",
              "      <td>...</td>\n",
              "      <td>200.0</td>\n",
              "      <td>-3.063994</td>\n",
              "      <td>5.330468</td>\n",
              "      <td>-8.904473</td>\n",
              "      <td>-6.469041</td>\n",
              "      <td>-5.625080</td>\n",
              "      <td>-1.137071</td>\n",
              "      <td>7.998358</td>\n",
              "      <td>200.0</td>\n",
              "      <td>2.877973</td>\n",
              "      <td>5.540661</td>\n",
              "      <td>-10.511058</td>\n",
              "      <td>0.655365</td>\n",
              "      <td>5.533329</td>\n",
              "      <td>6.411644</td>\n",
              "      <td>11.188928</td>\n",
              "      <td>200.0</td>\n",
              "      <td>-2.893704</td>\n",
              "      <td>5.385458</td>\n",
              "      <td>-10.041080</td>\n",
              "      <td>-6.338250</td>\n",
              "      <td>-5.533643</td>\n",
              "      <td>-0.628974</td>\n",
              "      <td>8.250206</td>\n",
              "      <td>200.0</td>\n",
              "      <td>0.500000</td>\n",
              "      <td>0.501255</td>\n",
              "      <td>0.0</td>\n",
              "      <td>0.0</td>\n",
              "      <td>0.5</td>\n",
              "      <td>1.0</td>\n",
              "      <td>1.0</td>\n",
              "      <td>200.0</td>\n",
              "      <td>1.330000</td>\n",
              "      <td>1.713411</td>\n",
              "      <td>0.0</td>\n",
              "      <td>0.00</td>\n",
              "      <td>1.0</td>\n",
              "      <td>4.00</td>\n",
              "      <td>5.0</td>\n",
              "    </tr>\n",
              "    <tr>\n",
              "      <th>4</th>\n",
              "      <td>198.0</td>\n",
              "      <td>-0.081689</td>\n",
              "      <td>4.224734</td>\n",
              "      <td>-6.446648</td>\n",
              "      <td>-4.197512</td>\n",
              "      <td>-0.104985</td>\n",
              "      <td>4.100377</td>\n",
              "      <td>7.308801</td>\n",
              "      <td>198.0</td>\n",
              "      <td>-4.011986</td>\n",
              "      <td>1.271893</td>\n",
              "      <td>-7.147353</td>\n",
              "      <td>-4.741817</td>\n",
              "      <td>-3.982761</td>\n",
              "      <td>-3.074444</td>\n",
              "      <td>-1.138555</td>\n",
              "      <td>198.0</td>\n",
              "      <td>-0.016548</td>\n",
              "      <td>1.086553</td>\n",
              "      <td>-3.388461</td>\n",
              "      <td>-0.704474</td>\n",
              "      <td>-0.107396</td>\n",
              "      <td>0.729247</td>\n",
              "      <td>2.622554</td>\n",
              "      <td>198.0</td>\n",
              "      <td>0.124097</td>\n",
              "      <td>1.027026</td>\n",
              "      <td>-2.534433</td>\n",
              "      <td>-0.432731</td>\n",
              "      <td>-0.023205</td>\n",
              "      <td>0.786861</td>\n",
              "      <td>3.959325</td>\n",
              "      <td>198.0</td>\n",
              "      <td>0.071578</td>\n",
              "      <td>1.023852</td>\n",
              "      <td>-2.405368</td>\n",
              "      <td>-0.649629</td>\n",
              "      <td>0.076924</td>\n",
              "      <td>0.769165</td>\n",
              "      <td>3.142104</td>\n",
              "      <td>...</td>\n",
              "      <td>198.0</td>\n",
              "      <td>0.092160</td>\n",
              "      <td>6.185626</td>\n",
              "      <td>-8.231905</td>\n",
              "      <td>-6.061937</td>\n",
              "      <td>-0.027459</td>\n",
              "      <td>6.225587</td>\n",
              "      <td>8.525399</td>\n",
              "      <td>198.0</td>\n",
              "      <td>2.983763</td>\n",
              "      <td>5.451616</td>\n",
              "      <td>-9.113360</td>\n",
              "      <td>2.474017</td>\n",
              "      <td>5.411117</td>\n",
              "      <td>6.560026</td>\n",
              "      <td>12.465974</td>\n",
              "      <td>198.0</td>\n",
              "      <td>0.121139</td>\n",
              "      <td>6.040670</td>\n",
              "      <td>-7.602992</td>\n",
              "      <td>-5.855442</td>\n",
              "      <td>0.371061</td>\n",
              "      <td>6.139582</td>\n",
              "      <td>8.431471</td>\n",
              "      <td>198.0</td>\n",
              "      <td>0.500000</td>\n",
              "      <td>0.501267</td>\n",
              "      <td>0.0</td>\n",
              "      <td>0.0</td>\n",
              "      <td>0.5</td>\n",
              "      <td>1.0</td>\n",
              "      <td>1.0</td>\n",
              "      <td>198.0</td>\n",
              "      <td>1.550505</td>\n",
              "      <td>1.559310</td>\n",
              "      <td>0.0</td>\n",
              "      <td>1.00</td>\n",
              "      <td>1.0</td>\n",
              "      <td>4.00</td>\n",
              "      <td>6.0</td>\n",
              "    </tr>\n",
              "  </tbody>\n",
              "</table>\n",
              "<p>5 rows × 144 columns</p>\n",
              "</div>"
            ],
            "text/plain": [
              "        cad0                                          ... kmeans                      \n",
              "       count      mean       std       min       25%  ...    min   25%  50%   75%  max\n",
              "cadre                                                 ...                             \n",
              "0      201.0 -0.031299  4.298202 -7.058527 -4.183709  ...    3.0  3.00  7.0  8.00  9.0\n",
              "1      201.0  0.130477  4.431900 -7.108085 -4.203660  ...    3.0  6.00  8.0  9.00  9.0\n",
              "2      200.0 -0.069676  4.194419 -6.521632 -4.208975  ...    2.0  4.25  5.0  5.25  9.0\n",
              "3      200.0 -4.019848  0.856367 -6.615413 -4.588261  ...    0.0  0.00  1.0  4.00  5.0\n",
              "4      198.0 -0.081689  4.224734 -6.446648 -4.197512  ...    0.0  1.00  1.0  4.00  6.0\n",
              "\n",
              "[5 rows x 144 columns]"
            ]
          },
          "metadata": {
            "tags": []
          },
          "execution_count": 21
        }
      ]
    },
    {
      "cell_type": "markdown",
      "metadata": {
        "id": "dviaOwQOHODH",
        "colab_type": "text"
      },
      "source": [
        "# Begin SCM"
      ]
    },
    {
      "cell_type": "markdown",
      "metadata": {
        "id": "zGz8qwCGHRnT",
        "colab_type": "text"
      },
      "source": [
        "Next, we replicate the work done so far on SCM with help from Alex, Xiao and George's codes"
      ]
    },
    {
      "cell_type": "code",
      "metadata": {
        "id": "IXg0ITQzJZe2",
        "colab_type": "code",
        "colab": {}
      },
      "source": [
        "# SCM import\n",
        "sys.path.append('supervised-cadres/cadreModels')\n",
        "from classificationBinary import binaryCadreModel\n",
        "from classificationMulti import multilabelCadreModel"
      ],
      "execution_count": 0,
      "outputs": []
    },
    {
      "cell_type": "code",
      "metadata": {
        "id": "lt2brwdS-gvX",
        "colab_type": "code",
        "colab": {}
      },
      "source": [
        "# randomized train-test-split\n",
        "Dtr, Dva = train_test_split(data, test_size=0.2, random_state=101)"
      ],
      "execution_count": 0,
      "outputs": []
    },
    {
      "cell_type": "code",
      "metadata": {
        "id": "f_arP8s2-gyS",
        "colab_type": "code",
        "colab": {}
      },
      "source": [
        "# Identify cadre prediction features from target prediction features (optional)\n",
        "cadreFts = data.columns[data.columns.str.contains('cad')]\n",
        "predictFts = data.columns[data.columns.str.contains('dv')]"
      ],
      "execution_count": 0,
      "outputs": []
    },
    {
      "cell_type": "code",
      "metadata": {
        "id": "6BvAGpk2-g1W",
        "colab_type": "code",
        "colab": {}
      },
      "source": [
        "# merge features\n",
        "features = cadreFts.union(predictFts)"
      ],
      "execution_count": 0,
      "outputs": []
    },
    {
      "cell_type": "code",
      "metadata": {
        "id": "pIIYjiSH-g4L",
        "colab_type": "code",
        "colab": {}
      },
      "source": [
        "# standardize training and validation sets\n",
        "Dva[features] = zmap(Dva[features].values, Dtr[features].values)\n",
        "Dtr[features] = zscore(Dtr[features].values)"
      ],
      "execution_count": 0,
      "outputs": []
    },
    {
      "cell_type": "markdown",
      "metadata": {
        "id": "jukP2l01I4KI",
        "colab_type": "text"
      },
      "source": [
        "Alex notes:\n",
        "\n",
        "Define and train SCM model object. We're not going to tune any hyperparameters here. Note that we now supply the binaryCadreModel object with the cadre-assignment features and target-prediction features, as well as the name of the target feature.\n",
        "\n",
        "If we did not supply any cadreFts or targetFts, they default to being every column in data other than targetCol"
      ]
    },
    {
      "cell_type": "code",
      "metadata": {
        "id": "WFvYdOTX-g7n",
        "colab_type": "code",
        "outputId": "f9cb519a-42a8-4d9b-b617-de336355656f",
        "colab": {
          "base_uri": "https://localhost:8080/",
          "height": 433
        }
      },
      "source": [
        "# Xiao: just has to tune the parameters.\n",
        "\n",
        "scm = binaryCadreModel(M=10,lambda_d=0.001,lambda_W=0.001, Tmax=7001, record=500,gamma=1,eta=2e-2)\n",
        "scm.fit(data=Dtr,\n",
        "       targetCol='target',\n",
        "       cadreFts=cadreFts,\n",
        "       predictFts=predictFts,\n",
        "       dataVa=Dva,\n",
        "       progress=True)"
      ],
      "execution_count": 27,
      "outputs": [
        {
          "output_type": "stream",
          "text": [
            "WARNING: Logging before flag parsing goes to stderr.\n",
            "W0709 03:39:54.422424 140451748226944 deprecation_wrapper.py:119] From supervised-cadres/cadreModels/classificationBinary.py:114: The name tf.reset_default_graph is deprecated. Please use tf.compat.v1.reset_default_graph instead.\n",
            "\n",
            "W0709 03:39:54.470195 140451748226944 deprecation_wrapper.py:119] From supervised-cadres/cadreModels/classificationBinary.py:141: The name tf.placeholder is deprecated. Please use tf.compat.v1.placeholder instead.\n",
            "\n",
            "W0709 03:39:54.596567 140451748226944 deprecation_wrapper.py:119] From supervised-cadres/cadreModels/classificationBinary.py:168: The name tf.log is deprecated. Please use tf.math.log instead.\n",
            "\n",
            "W0709 03:39:54.626926 140451748226944 deprecation_wrapper.py:119] From supervised-cadres/cadreModels/classificationBinary.py:182: The name tf.train.AdamOptimizer is deprecated. Please use tf.compat.v1.train.AdamOptimizer instead.\n",
            "\n",
            "W0709 03:39:54.706771 140451748226944 deprecation.py:323] From /usr/local/lib/python3.6/dist-packages/tensorflow/python/ops/math_grad.py:1205: add_dispatch_support.<locals>.wrapper (from tensorflow.python.ops.array_ops) is deprecated and will be removed in a future version.\n",
            "Instructions for updating:\n",
            "Use tf.where in 2.0, which has the same broadcast rule as np.where\n",
            "W0709 03:39:55.014601 140451748226944 deprecation_wrapper.py:119] From supervised-cadres/cadreModels/classificationBinary.py:185: The name tf.assign is deprecated. Please use tf.compat.v1.assign instead.\n",
            "\n",
            "W0709 03:39:55.040120 140451748226944 deprecation_wrapper.py:119] From supervised-cadres/cadreModels/classificationBinary.py:191: The name tf.Session is deprecated. Please use tf.compat.v1.Session instead.\n",
            "\n"
          ],
          "name": "stderr"
        },
        {
          "output_type": "stream",
          "text": [
            "numbers being printed: SGD iteration, training loss, training accuracy, validation loss, validation accuracy, time\n",
            "0\n",
            "500 0.7255065 0.3875 0.72089124 0.435 1.094135046005249\n",
            "1000 0.33845192 0.945 0.32913458 0.93 35.06263589859009\n",
            "training has terminated because: lack of sufficient decrease in validation ROC_AUC\n"
          ],
          "name": "stdout"
        },
        {
          "output_type": "execute_result",
          "data": {
            "text/plain": [
              "<classificationBinary.binaryCadreModel at 0x7fbd1ebb00b8>"
            ]
          },
          "metadata": {
            "tags": []
          },
          "execution_count": 27
        }
      ]
    },
    {
      "cell_type": "markdown",
      "metadata": {
        "id": "9CvILsZHKBCr",
        "colab_type": "text"
      },
      "source": [
        "Alex notes:\n",
        "\n",
        "The metrics attribute of scm contains training and validation metrics values. We can plot them separately. ROC_AUC is the receiver operator characteristic area under the curve (sklearn.metrics.roc_auc_score). PR_AUC is the average precision, i.e., area under the precision-recall curve (sklearn.metrics.average_precision_score).\n",
        "\n",
        "The x-axis in these plots are dependent on iteration count."
      ]
    },
    {
      "cell_type": "code",
      "metadata": {
        "id": "-CfMRBja-g-c",
        "colab_type": "code",
        "outputId": "d3d53f83-23fd-4abc-a4c2-65b057bafe61",
        "colab": {
          "base_uri": "https://localhost:8080/",
          "height": 287
        }
      },
      "source": [
        "scm.metrics['training'].plot()"
      ],
      "execution_count": 28,
      "outputs": [
        {
          "output_type": "execute_result",
          "data": {
            "text/plain": [
              "<matplotlib.axes._subplots.AxesSubplot at 0x7fbd1ebb0128>"
            ]
          },
          "metadata": {
            "tags": []
          },
          "execution_count": 28
        },
        {
          "output_type": "display_data",
          "data": {
            "image/png": "[encoded data removed]",
            "text/plain": [
              "<Figure size 432x288 with 1 Axes>"
            ]
          },
          "metadata": {
            "tags": []
          }
        }
      ]
    },
    {
      "cell_type": "code",
      "metadata": {
        "id": "RgcUquwb-hBr",
        "colab_type": "code",
        "outputId": "b3dce320-ed73-49ac-c1c5-503dbd898853",
        "colab": {
          "base_uri": "https://localhost:8080/",
          "height": 287
        }
      },
      "source": [
        "scm.metrics['validation'].plot()"
      ],
      "execution_count": 29,
      "outputs": [
        {
          "output_type": "execute_result",
          "data": {
            "text/plain": [
              "<matplotlib.axes._subplots.AxesSubplot at 0x7fbd1016cf28>"
            ]
          },
          "metadata": {
            "tags": []
          },
          "execution_count": 29
        },
        {
          "output_type": "display_data",
          "data": {
            "image/png": "[encoded data removed]",
            "text/plain": [
              "<Figure size 432x288 with 1 Axes>"
            ]
          },
          "metadata": {
            "tags": []
          }
        }
      ]
    },
    {
      "cell_type": "markdown",
      "metadata": {
        "id": "Z_GgTSLimIca",
        "colab_type": "text"
      },
      "source": [
        "We can use the `predictFull` method for the `binaryCadreModel` class to calculate a variety of quantities on a new dataset. In the below chunk:\n",
        "\n",
        "- `margin` -- classification margin scores\n",
        "- `label` -- predicted labels\n",
        "- `cadre_weight` -- a matrix of cadre membership probabilities\n",
        "- `cadre` -- predicted cadre memberships\n",
        "- `loss` -- loss value"
      ]
    },
    {
      "cell_type": "code",
      "metadata": {
        "id": "9tFXsv-6-hIW",
        "colab_type": "code",
        "outputId": "6b012402-6dc0-4ebb-ddf2-9ba58ee9cd99",
        "colab": {
          "base_uri": "https://localhost:8080/",
          "height": 80
        }
      },
      "source": [
        "scm.scoreMetrics(Dva)"
      ],
      "execution_count": 30,
      "outputs": [
        {
          "output_type": "execute_result",
          "data": {
            "text/html": [
              "<div>\n",
              "<style scoped>\n",
              "    .dataframe tbody tr th:only-of-type {\n",
              "        vertical-align: middle;\n",
              "    }\n",
              "\n",
              "    .dataframe tbody tr th {\n",
              "        vertical-align: top;\n",
              "    }\n",
              "\n",
              "    .dataframe thead th {\n",
              "        text-align: right;\n",
              "    }\n",
              "</style>\n",
              "<table border=\"1\" class=\"dataframe\">\n",
              "  <thead>\n",
              "    <tr style=\"text-align: right;\">\n",
              "      <th></th>\n",
              "      <th>loss</th>\n",
              "      <th>accuracy</th>\n",
              "      <th>ROC_AUC</th>\n",
              "      <th>PR_AUC</th>\n",
              "    </tr>\n",
              "  </thead>\n",
              "  <tbody>\n",
              "    <tr>\n",
              "      <th>0</th>\n",
              "      <td>0.253037</td>\n",
              "      <td>0.995</td>\n",
              "      <td>0.99838</td>\n",
              "      <td>0.997814</td>\n",
              "    </tr>\n",
              "  </tbody>\n",
              "</table>\n",
              "</div>"
            ],
            "text/plain": [
              "       loss  accuracy  ROC_AUC    PR_AUC\n",
              "0  0.253037     0.995  0.99838  0.997814"
            ]
          },
          "metadata": {
            "tags": []
          },
          "execution_count": 30
        }
      ]
    },
    {
      "cell_type": "code",
      "metadata": {
        "id": "FxJ1aWOSKuha",
        "colab_type": "code",
        "outputId": "145eb22d-c0a9-400b-e2e2-10791c40ae14",
        "colab": {
          "base_uri": "https://localhost:8080/",
          "height": 53
        }
      },
      "source": [
        "scm.entropy(Dtr)"
      ],
      "execution_count": 31,
      "outputs": [
        {
          "output_type": "execute_result",
          "data": {
            "text/plain": [
              "array([ 0.31797561,  0.04549924, -0.        ,  0.22237923,  1.28485756,\n",
              "        0.14204216,  0.38271828, -0.        ,  0.09554176,  0.10231049])"
            ]
          },
          "metadata": {
            "tags": []
          },
          "execution_count": 31
        }
      ]
    },
    {
      "cell_type": "code",
      "metadata": {
        "id": "WzdgzJwGJrhi",
        "colab_type": "code",
        "colab": {}
      },
      "source": [
        "f, l, G, m, l = scm.predictFull(Dva)"
      ],
      "execution_count": 0,
      "outputs": []
    },
    {
      "cell_type": "code",
      "metadata": {
        "id": "38EZQcSVNjTS",
        "colab_type": "code",
        "colab": {}
      },
      "source": [
        "from itertools import product\n",
        "from joblib import Parallel, delayed"
      ],
      "execution_count": 0,
      "outputs": []
    },
    {
      "cell_type": "code",
      "metadata": {
        "id": "wmYQDI6_Njat",
        "colab_type": "code",
        "colab": {}
      },
      "source": [
        "def scmCrossval(d_tr, d_va, d_te, M, l_W, l_d, cadre_fts, predict_fts, Tmax, record):\n",
        "    mod = binaryCadreModel(\n",
        "                Tmax=Tmax, record=record,\n",
        "                M=M, alpha_d=0.99, alpha_W=0.99, lambda_d=l_d, lambda_W=l_W, gamma=1.)\n",
        "        \n",
        "    mod.fit(d_tr, 'target', cadre_fts, predict_fts, d_va, progress=False)\n",
        "    \n",
        "    ## evaluate on validation and test sets\n",
        "    err_va = mod.scoreMetrics(d_va)\n",
        "    err_te = mod.scoreMetrics(d_te)\n",
        "    \n",
        "    ## return everything as a list\n",
        "    return mod, err_va, err_te"
      ],
      "execution_count": 0,
      "outputs": []
    },
    {
      "cell_type": "code",
      "metadata": {
        "id": "xh2jWHu9Njev",
        "colab_type": "code",
        "colab": {}
      },
      "source": [
        "from sklearn.model_selection import KFold"
      ],
      "execution_count": 0,
      "outputs": []
    },
    {
      "cell_type": "code",
      "metadata": {
        "id": "mN6Mip8GNjh1",
        "colab_type": "code",
        "colab": {}
      },
      "source": [
        "l_ds = np.array([0.01, 0.001])\n",
        "l_Ws = np.array([0.01, 0.001])\n",
        "Ms = np.array([4,6,8,10])\n",
        "n_folds = 10"
      ],
      "execution_count": 0,
      "outputs": []
    },
    {
      "cell_type": "code",
      "metadata": {
        "id": "HSL1pFMKNjk_",
        "colab_type": "code",
        "outputId": "b84113bc-d1b9-43c1-e4b8-b2b1ff83a2ad",
        "colab": {
          "base_uri": "https://localhost:8080/",
          "height": 611
        }
      },
      "source": [
        "kf = KFold(n_splits=n_folds, random_state=1414)\n",
        "\n",
        "n_jobs = np.minimum(12, n_folds * Ms.shape[0] * l_ds.shape[0] * l_Ws.shape[0])\n",
        "\n",
        "results = (Parallel(n_jobs=n_jobs, backend='threading', verbose=11)(delayed(scmCrossval)\n",
        "                    (Dtr.iloc[tr], Dtr.iloc[va], Dva, M, l_W, l_d, features, features, 20001, 1000) \n",
        "                    for (M, l_d, l_W, (fold, (tr, va))) in product(Ms, l_ds, l_Ws, enumerate(kf.split(Dtr)))))"
      ],
      "execution_count": 0,
      "outputs": [
        {
          "output_type": "stream",
          "text": [
            "[Parallel(n_jobs=12)]: Using backend ThreadingBackend with 12 concurrent workers.\n",
            "[Parallel(n_jobs=12)]: Done   1 tasks      | elapsed: 220.8min\n",
            "[Parallel(n_jobs=12)]: Done   2 tasks      | elapsed: 264.9min\n",
            "[Parallel(n_jobs=12)]: Done   3 tasks      | elapsed: 284.9min\n",
            "[Parallel(n_jobs=12)]: Done   4 tasks      | elapsed: 322.5min\n",
            "[Parallel(n_jobs=12)]: Done   5 tasks      | elapsed: 338.1min\n",
            "[Parallel(n_jobs=12)]: Done   6 tasks      | elapsed: 354.9min\n",
            "[Parallel(n_jobs=12)]: Done   7 tasks      | elapsed: 380.6min\n",
            "[Parallel(n_jobs=12)]: Done   8 tasks      | elapsed: 392.6min\n",
            "[Parallel(n_jobs=12)]: Done   9 tasks      | elapsed: 413.5min\n",
            "[Parallel(n_jobs=12)]: Done  10 tasks      | elapsed: 413.8min\n",
            "[Parallel(n_jobs=12)]: Done  11 tasks      | elapsed: 414.0min\n",
            "[Parallel(n_jobs=12)]: Done  12 tasks      | elapsed: 414.5min\n",
            "[Parallel(n_jobs=12)]: Done  13 tasks      | elapsed: 414.5min\n",
            "[Parallel(n_jobs=12)]: Done  14 tasks      | elapsed: 414.7min\n",
            "[Parallel(n_jobs=12)]: Done  15 tasks      | elapsed: 475.2min\n",
            "[Parallel(n_jobs=12)]: Done  16 tasks      | elapsed: 475.3min\n",
            "[Parallel(n_jobs=12)]: Done  17 tasks      | elapsed: 495.6min\n",
            "[Parallel(n_jobs=12)]: Done  18 tasks      | elapsed: 516.4min\n",
            "[Parallel(n_jobs=12)]: Done  19 tasks      | elapsed: 526.5min\n",
            "[Parallel(n_jobs=12)]: Done  20 tasks      | elapsed: 536.7min\n",
            "[Parallel(n_jobs=12)]: Done  21 tasks      | elapsed: 537.3min\n",
            "[Parallel(n_jobs=12)]: Done  22 tasks      | elapsed: 537.7min\n",
            "[Parallel(n_jobs=12)]: Done  23 tasks      | elapsed: 547.7min\n",
            "[Parallel(n_jobs=12)]: Done  24 tasks      | elapsed: 578.2min\n",
            "[Parallel(n_jobs=12)]: Done  25 tasks      | elapsed: 589.5min\n",
            "[Parallel(n_jobs=12)]: Done  26 tasks      | elapsed: 609.8min\n",
            "[Parallel(n_jobs=12)]: Done  27 tasks      | elapsed: 619.0min\n",
            "[Parallel(n_jobs=12)]: Done  28 tasks      | elapsed: 620.6min\n",
            "[Parallel(n_jobs=12)]: Done  29 tasks      | elapsed: 651.1min\n",
            "[Parallel(n_jobs=12)]: Done  30 tasks      | elapsed: 671.7min\n",
            "[Parallel(n_jobs=12)]: Done  31 tasks      | elapsed: 672.4min\n",
            "[Parallel(n_jobs=12)]: Done  32 tasks      | elapsed: 672.5min\n"
          ],
          "name": "stderr"
        }
      ]
    },
    {
      "cell_type": "code",
      "metadata": {
        "id": "4ipjTIulNjoI",
        "colab_type": "code",
        "colab": {}
      },
      "source": [
        "def extract_scores(results):\n",
        "    results_va, results_te = [], []\n",
        "    for model, scores_va, scores_te in results:\n",
        "        results_va.append(scores_va)\n",
        "        results_va[-1] = results_va[-1].assign(M=model.M, lambda_d=model.lambda_d, lambda_W=model.lambda_W)\n",
        "        \n",
        "        results_te.append(scores_te)\n",
        "        results_te[-1] = results_te[-1].assign(M=model.M, lambda_d=model.lambda_d, lambda_W=model.lambda_W)\n",
        "    results_va = pd.concat(results_va).reset_index(drop=True)\n",
        "    results_te = pd.concat(results_te).reset_index(drop=True)\n",
        "    print(results_va.head())\n",
        "    print(results_te.head())\n",
        "    return results_va, results_te"
      ],
      "execution_count": 0,
      "outputs": []
    },
    {
      "cell_type": "code",
      "metadata": {
        "id": "w4nmIEe8NjrW",
        "colab_type": "code",
        "outputId": "23b1c7d0-44a5-4f09-cb3d-40a4e34da02a",
        "colab": {
          "base_uri": "https://localhost:8080/",
          "height": 172
        }
      },
      "source": [
        "scores_va, scores_te = extract_scores(results)"
      ],
      "execution_count": 2,
      "outputs": [
        {
          "output_type": "error",
          "ename": "NameError",
          "evalue": "ignored",
          "traceback": [
            "\u001b[0;31m---------------------------------------------------------------------------\u001b[0m",
            "\u001b[0;31mNameError\u001b[0m                                 Traceback (most recent call last)",
            "\u001b[0;32m<ipython-input-2-fe395fe7016b>\u001b[0m in \u001b[0;36m<module>\u001b[0;34m()\u001b[0m\n\u001b[0;32m----> 1\u001b[0;31m \u001b[0mscores_va\u001b[0m\u001b[0;34m,\u001b[0m \u001b[0mscores_te\u001b[0m \u001b[0;34m=\u001b[0m \u001b[0mextract_scores\u001b[0m\u001b[0;34m(\u001b[0m\u001b[0mresults\u001b[0m\u001b[0;34m)\u001b[0m\u001b[0;34m\u001b[0m\u001b[0;34m\u001b[0m\u001b[0m\n\u001b[0m",
            "\u001b[0;31mNameError\u001b[0m: name 'results' is not defined"
          ]
        }
      ]
    },
    {
      "cell_type": "code",
      "metadata": {
        "id": "ErQS-e7zNju6",
        "colab_type": "code",
        "colab": {}
      },
      "source": [
        "def get_best_attributes(scores):\n",
        "    group = scores.groupby(['M','lambda_d','lambda_W'])\n",
        "    return group.mean().reset_index().sort_values('ROC_AUC', ascending=False).head()"
      ],
      "execution_count": 0,
      "outputs": []
    },
    {
      "cell_type": "code",
      "metadata": {
        "id": "9cTE7CNAQli7",
        "colab_type": "code",
        "colab": {}
      },
      "source": [
        "get_best_attributes(scores_va)"
      ],
      "execution_count": 0,
      "outputs": []
    },
    {
      "cell_type": "code",
      "metadata": {
        "id": "LVWJP90eQlmd",
        "colab_type": "code",
        "colab": {}
      },
      "source": [
        "def extract_scores(results):\n",
        "    results_va, results_te = [], []\n",
        "    for model, scores_va, scores_te in results:\n",
        "        results_va.append(scores_va)\n",
        "        results_va[-1] = results_va[-1].assign(M=model.M, lambda_d=model.lambda_d, lambda_W=model.lambda_W)\n",
        "        \n",
        "        results_te.append(scores_te)\n",
        "        results_te[-1] = results_te[-1].assign(M=model.M, lambda_d=model.lambda_d, lambda_W=model.lambda_W)\n",
        "    results_va = pd.concat(results_va).reset_index(drop=True)\n",
        "    results_te = pd.concat(results_te).reset_index(drop=True)\n",
        "    print(results_va.head())\n",
        "    print(results_te.head())\n",
        "    return results_va, results_te"
      ],
      "execution_count": 0,
      "outputs": []
    },
    {
      "cell_type": "code",
      "metadata": {
        "id": "0-NhJpswQls7",
        "colab_type": "code",
        "colab": {}
      },
      "source": [
        "scores_va, scores_te = extract_scores(results)"
      ],
      "execution_count": 0,
      "outputs": []
    },
    {
      "cell_type": "code",
      "metadata": {
        "id": "VKqXtlG5Qlv0",
        "colab_type": "code",
        "colab": {}
      },
      "source": [
        "def get_best_attributes(scores):\n",
        "    group = scores.groupby(['M','lambda_d','lambda_W'])\n",
        "    return group.mean().reset_index().sort_values('ROC_AUC', ascending=False).head()"
      ],
      "execution_count": 0,
      "outputs": []
    },
    {
      "cell_type": "code",
      "metadata": {
        "id": "ipOOWhutQlyU",
        "colab_type": "code",
        "colab": {}
      },
      "source": [
        "get_best_attributes(scores_va)"
      ],
      "execution_count": 0,
      "outputs": []
    },
    {
      "cell_type": "code",
      "metadata": {
        "id": "_xsfbQWTQl32",
        "colab_type": "code",
        "colab": {}
      },
      "source": [
        "scm_best = binaryCadreModel(Tmax=20001, record=1000, eps=1e-4, lambda_W=0.001, lambda_d=0.001, M=10, gamma=1.)\n",
        "scm_best.fit(Dtr, 'target', features, features, Dva, progress=True)"
      ],
      "execution_count": 0,
      "outputs": []
    },
    {
      "cell_type": "code",
      "metadata": {
        "id": "Frh260uvw7km",
        "colab_type": "code",
        "colab": {}
      },
      "source": [
        "scm.scoreMetrics(Dva)"
      ],
      "execution_count": 0,
      "outputs": []
    },
    {
      "cell_type": "code",
      "metadata": {
        "id": "cGrraDO9Ql66",
        "colab_type": "code",
        "colab": {}
      },
      "source": [
        "scm_best.scoreMetrics(Dva)"
      ],
      "execution_count": 0,
      "outputs": []
    },
    {
      "cell_type": "code",
      "metadata": {
        "id": "hCI8im37Ql1Q",
        "colab_type": "code",
        "colab": {}
      },
      "source": [
        "from sklearn.metrics import roc_auc_score, average_precision_score"
      ],
      "execution_count": 0,
      "outputs": []
    },
    {
      "cell_type": "code",
      "metadata": {
        "id": "QF2Anz3TxAFl",
        "colab_type": "code",
        "colab": {}
      },
      "source": [
        "def precision_metrics(data, model, data_name, M):\n",
        "    F, L, __, M, __ = model.predictFull(data)\n",
        "    temp = pd.DataFrame({'f': np.squeeze(F), 'm': np.squeeze(M), 'l': np.squeeze(L), 'y': data['target'].values})\n",
        "    scores = {'size': [], 'm': [], 'dataset': [], 'accuracy': [], 'ROC_AUC': [], 'PR_AUC': [], 'proportion': []}\n",
        "    for m in np.unique(M):\n",
        "        temp_m = temp.loc[temp['m']==m,:]\n",
        "        if temp_m.shape[0] < 5: continue\n",
        "        scores['size'].append(temp_m.shape[0])\n",
        "        scores['m'].append(m)\n",
        "        scores['dataset'].append(data_name)\n",
        "        scores['proportion'].append(temp_m['y'].mean())\n",
        "        scores['accuracy'].append(np.mean(temp_m['l'] == temp_m['y']))\n",
        "        scores['ROC_AUC'].append(roc_auc_score(temp_m['y'], temp_m['f']))\n",
        "        scores['PR_AUC'].append(average_precision_score(temp_m['y'], temp_m['f']))\n",
        "    return pd.DataFrame(scores)[['dataset', 'm', 'size', 'proportion', 'accuracy', 'ROC_AUC', 'PR_AUC']]"
      ],
      "execution_count": 0,
      "outputs": []
    },
    {
      "cell_type": "code",
      "metadata": {
        "id": "5AMaejvZxAI4",
        "colab_type": "code",
        "colab": {}
      },
      "source": [
        "precision_metrics(Dva, scm_best, 'synthetic', 6)"
      ],
      "execution_count": 0,
      "outputs": []
    },
    {
      "cell_type": "code",
      "metadata": {
        "id": "7MCgqysdxAL1",
        "colab_type": "code",
        "colab": {}
      },
      "source": [
        ""
      ],
      "execution_count": 0,
      "outputs": []
    },
    {
      "cell_type": "code",
      "metadata": {
        "id": "6ocn1dvbxAPn",
        "colab_type": "code",
        "colab": {}
      },
      "source": [
        ""
      ],
      "execution_count": 0,
      "outputs": []
    },
    {
      "cell_type": "code",
      "metadata": {
        "id": "BHsPs1uaxASg",
        "colab_type": "code",
        "colab": {}
      },
      "source": [
        ""
      ],
      "execution_count": 0,
      "outputs": []
    },
    {
      "cell_type": "code",
      "metadata": {
        "id": "ZQYyBQdHQlqA",
        "colab_type": "code",
        "colab": {}
      },
      "source": [
        ""
      ],
      "execution_count": 0,
      "outputs": []
    },
    {
      "cell_type": "code",
      "metadata": {
        "id": "tWHUYh35NjyJ",
        "colab_type": "code",
        "colab": {}
      },
      "source": [
        ""
      ],
      "execution_count": 0,
      "outputs": []
    },
    {
      "cell_type": "code",
      "metadata": {
        "id": "OMJVxDNKNj08",
        "colab_type": "code",
        "colab": {}
      },
      "source": [
        ""
      ],
      "execution_count": 0,
      "outputs": []
    },
    {
      "cell_type": "code",
      "metadata": {
        "id": "cXEtxBcvJkaR",
        "colab_type": "code",
        "colab": {}
      },
      "source": [
        "#pd.Series(m).value_counts()"
      ],
      "execution_count": 0,
      "outputs": []
    },
    {
      "cell_type": "code",
      "metadata": {
        "id": "cnAwLW4p-hE8",
        "colab_type": "code",
        "colab": {}
      },
      "source": [
        "#margin, label, cadre_weight, cadre, loss = scm.predictFull(Dva)"
      ],
      "execution_count": 0,
      "outputs": []
    },
    {
      "cell_type": "markdown",
      "metadata": {
        "id": "MJFNLcjZSrkO",
        "colab_type": "text"
      },
      "source": [
        "# Begin SGMM"
      ]
    },
    {
      "cell_type": "markdown",
      "metadata": {
        "id": "eTjEO_uUUvca",
        "colab_type": "text"
      },
      "source": [
        "In this section, we use the SGMM to perform a logistic regression focusing on cadre-based accuracy."
      ]
    },
    {
      "cell_type": "code",
      "metadata": {
        "id": "SfN9r-SjKdDG",
        "colab_type": "code",
        "colab": {}
      },
      "source": [
        "# SGMM import\n",
        "#sys.path.insert(0, '../notebooks')\n",
        "print(sys.path)\n",
        "from supervisedGmm import SupervisedGMM\n",
        "from metricsFunctions import calc_metrics, CalculateSoftLogReg, optimalTau,metrics_cluster\n",
        "from loaders2 import loader\n",
        "from mlModels import logisticRegressionCv2, neural_nets, randomforests,\\\n",
        "kmeansLogRegr, xboost, gradboost\n",
        "from sklearn import metrics\n",
        "from sklearn.metrics import f1_score\n",
        "from sklearn.model_selection import train_test_split"
      ],
      "execution_count": 0,
      "outputs": []
    },
    {
      "cell_type": "code",
      "metadata": {
        "id": "dURaEu7gTE3W",
        "colab_type": "code",
        "colab": {}
      },
      "source": [
        "data1 = data.sample(frac=1,random_state=1512)"
      ],
      "execution_count": 0,
      "outputs": []
    },
    {
      "cell_type": "code",
      "metadata": {
        "id": "5c0Dxtd-PtB4",
        "colab_type": "code",
        "colab": {}
      },
      "source": [
        "columns = ['cluster', 'size', 'target_1','target_0', \n",
        "                       'TP', 'TN', 'FP', 'FN', \n",
        "                       'FPR', 'specificity', 'sensitivity', 'precision',\n",
        "                       'accuracy', 'balanced accuracy', 'f1', 'auc']\n",
        "features = list(data1.iloc[:,:-1])"
      ],
      "execution_count": 0,
      "outputs": []
    },
    {
      "cell_type": "code",
      "metadata": {
        "id": "VxIKfHPzKdT9",
        "colab_type": "code",
        "colab": {}
      },
      "source": [
        "np.random.seed( seed = 0)\n",
        "n_clusters = 10\n",
        "alpha = [0.1, 0.2, 0.5, 1,5]\n",
        "model = SupervisedGMM( cv=10, alpha = alpha, n_clusters = n_clusters, max_iter = 50, max_iter2 = 5, adaR=1, transduction = 0)\n",
        "Xtrain, Xtest, ytrain, ytest = model.split( data = data1.values)\n",
        "model = model.fit( Xtrain = Xtrain, Xtest = [], ytrain = ytrain, simple = 0, kmeans = 1, mod = 1)"
      ],
      "execution_count": 0,
      "outputs": []
    },
    {
      "cell_type": "code",
      "metadata": {
        "id": "Op1vEf69Kdc5",
        "colab_type": "code",
        "colab": {}
      },
      "source": [
        "mTest, mTrain = model.mTest, model.mTrain\n",
        "logisRegre = model.LogRegr\n",
        "fitP = model.fitParams\n",
        "labTrain, labTest = fitP['labTrain'], fitP['labTest']\n",
        "\n",
        "probTest, probTrain = model.predict_prob_int( Xtest = Xtest, Xtrain = Xtrain )\n",
        "tau = optimalTau(probTrain, ytrain)\n",
        "metTest,_ = calc_metrics(custom_prob = probTest.copy(), tau = tau, y = ytest)\n",
        "metTrain ,_= calc_metrics(custom_prob = probTrain.copy(), tau = tau, y = ytrain)\n",
        "metTestSGMM = pd.DataFrame( [metTest], columns = columns)\n",
        "metTrainSGMM = pd.DataFrame( [metTrain], columns = columns)\n",
        "print(metTestSGMM, metTrainSGMM)\n",
        "print()"
      ],
      "execution_count": 0,
      "outputs": []
    },
    {
      "cell_type": "markdown",
      "metadata": {
        "id": "XVtN11tXVZIo",
        "colab_type": "text"
      },
      "source": [
        "For the training set above, we find that accuracy is about 100% for all cadres. Similar to results from the SCM section"
      ]
    },
    {
      "cell_type": "markdown",
      "metadata": {
        "id": "cO1Ns0kAWOH4",
        "colab_type": "text"
      },
      "source": [
        "# Logit Reg with Additional Classification Models"
      ]
    },
    {
      "cell_type": "markdown",
      "metadata": {
        "id": "AG7agLTmJbue",
        "colab_type": "text"
      },
      "source": [
        "\n",
        "Note:\n",
        "high_cost represents \"target == 1\" and\n",
        "low_cost represents \"target == 0\""
      ]
    },
    {
      "cell_type": "code",
      "metadata": {
        "id": "pvkVHQnm-hRH",
        "colab_type": "code",
        "colab": {}
      },
      "source": [
        "Cs = [1,10,100,1000]\n",
        "#FITTING L1 LOGISTIC REGRESSION\n",
        "pL1, probTestL1, probTrainL1 = logisticRegressionCv2( Xtrain = Xtrain,\n",
        "                                                  ytrain = ytrain,\n",
        "                                                  Xtest = Xtest,\n",
        "                                                  ytest = ytest, Cs = Cs )\n",
        "tau = optimalTau(probTrainL1, ytrain)\n",
        "\n",
        "metTest,_ = calc_metrics(custom_prob = probTestL1.copy(), tau = tau, y = ytest)\n",
        "metTrain ,_= calc_metrics(custom_prob = probTrainL1.copy(), tau = tau, y = ytrain)\n",
        "metTestL1 = pd.DataFrame( [metTest], columns = columns)\n",
        "metTrainL1 = pd.DataFrame( [metTrain], columns = columns)"
      ],
      "execution_count": 0,
      "outputs": []
    },
    {
      "cell_type": "code",
      "metadata": {
        "id": "R_Y0NZpq-hUH",
        "colab_type": "code",
        "colab": {}
      },
      "source": [
        "#Fitting Neural Nets\n",
        "pNN, probTestNN, probTrainNN = neural_nets( Xtrain = Xtrain,\n",
        "                                                  ytrain = ytrain,\n",
        "                                                  Xtest = Xtest,\n",
        "                                                  ytest = ytest,\n",
        "                                                  h_l_s = (4 ,4, 2))\n",
        "tau = optimalTau(probTrainNN, ytrain)\n",
        "\n",
        "metTest,_ = calc_metrics(custom_prob = probTestNN.copy(), tau = tau, y = ytest)\n",
        "metTrain ,_= calc_metrics(custom_prob = probTrainNN.copy(), tau = tau, y = ytrain)\n",
        "metTestNN = pd.DataFrame( [metTest], columns = columns)\n",
        "metTrainNN = pd.DataFrame( [metTrain], columns = columns)"
      ],
      "execution_count": 0,
      "outputs": []
    },
    {
      "cell_type": "code",
      "metadata": {
        "id": "tl6BiqVb-hZy",
        "colab_type": "code",
        "colab": {}
      },
      "source": [
        "#RANDOM FORESTS\n",
        "params, probTest, probTrain = randomforests(Xtrain = Xtrain, ytrain = ytrain,\n",
        "                                            Xtest = Xtest, ytest = ytest)\n",
        "\n",
        "tau = optimalTau(probTrain, ytrain)\n",
        "metTest,_ = calc_metrics(custom_prob = probTest.copy(), tau = tau, y = ytest)\n",
        "metTrain ,_= calc_metrics(custom_prob = probTrain.copy(), tau = tau, y = ytrain)\n",
        "\n",
        "#PANDA MATRICES\n",
        "metTestRF = pd.DataFrame( [metTest], columns = columns)\n",
        "metTrainRF = pd.DataFrame( [metTrain], columns = columns)"
      ],
      "execution_count": 0,
      "outputs": []
    },
    {
      "cell_type": "code",
      "metadata": {
        "id": "jFn5B1BW-hgI",
        "colab_type": "code",
        "colab": {}
      },
      "source": [
        "#Ada boost\n",
        "params, probTest, probTrain = xboost(Xtrain = Xtrain, ytrain = ytrain,\n",
        "                                            Xtest = Xtest, ytest = ytest)\n",
        "\n",
        "tau = optimalTau(probTrain, ytrain)\n",
        "metTest,_ = calc_metrics(custom_prob = probTest.copy(), tau = tau, y = ytest)\n",
        "metTrain ,_= calc_metrics(custom_prob = probTrain.copy(), tau = tau, y = ytrain)\n",
        "\n",
        "#PANDA MATRICES\n",
        "metTestXB = pd.DataFrame( [metTest], columns = columns)\n",
        "metTrainXB = pd.DataFrame( [metTrain], columns = columns)"
      ],
      "execution_count": 0,
      "outputs": []
    },
    {
      "cell_type": "code",
      "metadata": {
        "id": "ToYcCDaU-hdQ",
        "colab_type": "code",
        "colab": {}
      },
      "source": [
        "#Grad boost\n",
        "params, probTest, probTrain = gradboost(Xtrain = Xtrain, ytrain = ytrain,\n",
        "                                            Xtest = Xtest, ytest = ytest)\n",
        "\n",
        "tau = optimalTau(probTrain, ytrain)\n",
        "metTest,_ = calc_metrics(custom_prob = probTest.copy(), tau = tau, y = ytest)\n",
        "metTrain ,_= calc_metrics(custom_prob = probTrain.copy(), tau = tau, y = ytrain)\n",
        "\n",
        "#PANDA MATRICES\n",
        "metTestGB = pd.DataFrame( [metTest], columns = columns)\n",
        "metTrainGB = pd.DataFrame( [metTrain], columns = columns)"
      ],
      "execution_count": 0,
      "outputs": []
    },
    {
      "cell_type": "code",
      "metadata": {
        "id": "Wd_0W02IQgfa",
        "colab_type": "code",
        "colab": {}
      },
      "source": [
        ""
      ],
      "execution_count": 0,
      "outputs": []
    },
    {
      "cell_type": "code",
      "metadata": {
        "id": "JD5ipGXlW39N",
        "colab_type": "code",
        "colab": {}
      },
      "source": [
        ""
      ],
      "execution_count": 0,
      "outputs": []
    },
    {
      "cell_type": "code",
      "metadata": {
        "id": "GCTtc_HSW4Es",
        "colab_type": "code",
        "colab": {}
      },
      "source": [
        "trainmet = pd.concat([metTrainL1,metTrainSGMM,metTrainRF,metTrainNN,metTrainXB,metTrainGB],ignore_index=True)\n",
        "testmet = pd.concat([metTestL1,metTestSGMM,metTestRF,metTestNN,metTestXB,metTestGB],ignore_index=True)"
      ],
      "execution_count": 0,
      "outputs": []
    },
    {
      "cell_type": "code",
      "metadata": {
        "id": "7Ids9ZuqW4Id",
        "colab_type": "code",
        "colab": {}
      },
      "source": [
        "method = ['L1 Reg','SGMM','RF','NN','AdaBoost','GradBoost']\n",
        "trainmet.insert(8,'method',method)\n",
        "testmet.insert(8,'method',method)"
      ],
      "execution_count": 0,
      "outputs": []
    },
    {
      "cell_type": "code",
      "metadata": {
        "id": "SPe4khiTW4B0",
        "colab_type": "code",
        "colab": {}
      },
      "source": [
        "trainmet.iloc[:,8:].round(2)"
      ],
      "execution_count": 0,
      "outputs": []
    },
    {
      "cell_type": "code",
      "metadata": {
        "id": "KOLmqUTPW35d",
        "colab_type": "code",
        "colab": {}
      },
      "source": [
        "testmet.iloc[:,8:].round(2)"
      ],
      "execution_count": 0,
      "outputs": []
    },
    {
      "cell_type": "code",
      "metadata": {
        "id": "_1CX0jjwW32Z",
        "colab_type": "code",
        "colab": {}
      },
      "source": [
        "scm.scoreMetrics(Dva)"
      ],
      "execution_count": 0,
      "outputs": []
    },
    {
      "cell_type": "markdown",
      "metadata": {
        "id": "HOWZ_aqdIkK4",
        "colab_type": "text"
      },
      "source": [
        "Future / Related Tasks:\n",
        "We made the clusters easily identifiable by tuning the make_classification function. \n",
        "For our next test dataset, we will make the clusters difficult to identify to help identify which models perform better"
      ]
    },
    {
      "cell_type": "code",
      "metadata": {
        "id": "-0I3sDTw-gmv",
        "colab_type": "code",
        "colab": {}
      },
      "source": [
        ""
      ],
      "execution_count": 0,
      "outputs": []
    },
    {
      "cell_type": "code",
      "metadata": {
        "id": "NUuVjoZA-gT_",
        "colab_type": "code",
        "colab": {}
      },
      "source": [
        "!ls"
      ],
      "execution_count": 0,
      "outputs": []
    }
  ]
}