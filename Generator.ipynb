{
 "cells": [
  {
   "cell_type": "markdown",
   "metadata": {
    "colab_type": "text",
    "id": "88E1SinoXESX"
   },
   "source": [
    "# Generator\n",
    "\n",
    "The goal here is to create a generator with correlated cadres. \n",
    "\n",
    "\n"
   ]
  },
  {
   "cell_type": "code",
   "execution_count": null,
   "metadata": {},
   "outputs": [],
   "source": []
  },
  {
   "cell_type": "code",
   "execution_count": 23,
   "metadata": {
    "colab": {},
    "colab_type": "code",
    "id": "LzKXg9SD59Ix"
   },
   "outputs": [],
   "source": [
    "import pandas as pd\n",
    "import numpy as np"
   ]
  },
  {
   "cell_type": "code",
   "execution_count": null,
   "metadata": {
    "colab": {},
    "colab_type": "code",
    "id": "UZ_gRFl517Vt"
   },
   "outputs": [],
   "source": []
  },
  {
   "cell_type": "code",
   "execution_count": 24,
   "metadata": {
    "colab": {
     "base_uri": "https://localhost:8080/",
     "height": 907
    },
    "colab_type": "code",
    "id": "bazbfl30iE3t",
    "outputId": "1a42df04-8f47-4ff9-dc63-bafb52bcdb41"
   },
   "outputs": [
    {
     "name": "stdout",
     "output_type": "stream",
     "text": [
      "Archive:  data.zip\n",
      "  inflating: data/ma/medications.csv  \n",
      "  inflating: data/ma/providers.csv   \n",
      "  inflating: data/ma/imaging_studies.csv  \n",
      "  inflating: data/ma/allergies.csv   \n",
      "  inflating: data/ma/procedures.csv  \n",
      "  inflating: data/ma/organizations.csv  \n",
      "  inflating: data/ma/conditions.csv  \n",
      "  inflating: data/ma/careplans.csv   \n",
      "  inflating: data/ma/encounters.csv  \n",
      "  inflating: __MACOSX/data/ma/._encounters.csv  \n",
      "  inflating: data/ma/immunizations.csv  \n",
      "  inflating: data/ma/patients.csv    \n",
      "  inflating: data/ma/observations.csv  \n",
      "  inflating: data/ny/medications.csv  \n",
      "  inflating: data/ny/providers.csv   \n",
      "  inflating: data/ny/imaging_studies.csv  \n",
      "  inflating: data/ny/allergies.csv   \n",
      "  inflating: data/ny/procedures.csv  \n",
      "  inflating: data/ny/organizations.csv  \n",
      "  inflating: data/ny/conditions.csv  \n",
      "  inflating: data/ny/careplans.csv   \n",
      "  inflating: data/ny/encounters.csv  \n",
      "  inflating: __MACOSX/data/ny/._encounters.csv  \n",
      "  inflating: data/ny/immunizations.csv  \n",
      "  inflating: data/ny/patients.csv    \n",
      "  inflating: data/ny/observations.csv  \n"
     ]
    }
   ],
   "source": [
    "!unzip -o data.zip"
   ]
  },
  {
   "cell_type": "markdown",
   "metadata": {
    "colab_type": "text",
    "id": "880XuoKaXJke"
   },
   "source": [
    "This is healthcare data generated from a syntetic data generator.  We want to see how good it is. "
   ]
  },
  {
   "cell_type": "code",
   "execution_count": 3,
   "metadata": {
    "colab": {
     "base_uri": "https://localhost:8080/",
     "height": 180
    },
    "colab_type": "code",
    "id": "jcsebVilY9Ue",
    "outputId": "0a8ae8c4-e68b-42a8-a5a0-b080c8d4fc30"
   },
   "outputs": [
    {
     "name": "stdout",
     "output_type": "stream",
     "text": [
      "allergies.csv\tencounters.csv\t     medications.csv\tpatients.csv\n",
      "careplans.csv\timaging_studies.csv  observations.csv\tprocedures.csv\n",
      "conditions.csv\timmunizations.csv    organizations.csv\tproviders.csv\n",
      "allergies.csv\tencounters.csv\t     medications.csv\tpatients.csv\n",
      "careplans.csv\timaging_studies.csv  observations.csv\tprocedures.csv\n",
      "conditions.csv\timmunizations.csv    organizations.csv\tproviders.csv\n"
     ]
    }
   ],
   "source": [
    "#Let's list the files\n",
    "!ls ./data/ma\n",
    "!ls ./data/ny"
   ]
  },
  {
   "cell_type": "markdown",
   "metadata": {
    "colab_type": "text",
    "id": "-G1gjRxRXESa"
   },
   "source": [
    "# Exploratory Data Analysis \n",
    "\n",
    "The data directory includes a wide variety of data related to health care.  \n",
    "    \n",
    "(1. 5 points) Find the mean of the `COST` varaiable in the `encounters.csv` data for both NY and MA, assigning the values to `cost_ny` and `cost_ma`.   \n",
    "\n",
    "\n",
    "\n"
   ]
  },
  {
   "cell_type": "code",
   "execution_count": 25,
   "metadata": {
    "colab": {},
    "colab_type": "code",
    "id": "z6GWZeGvXESc"
   },
   "outputs": [],
   "source": [
    "# Answer 1\n",
    "encounters_ma= pd.read_csv('./data/ma/encounters.csv')\n",
    "encounters_ny = pd.read_csv('./data/ny/encounters.csv')\n",
    "\n",
    "\n"
   ]
  },
  {
   "cell_type": "code",
   "execution_count": 26,
   "metadata": {
    "colab": {
     "base_uri": "https://localhost:8080/",
     "height": 4933
    },
    "colab_type": "code",
    "id": "aKIj5E5V7GTj",
    "outputId": "5db3ff8a-bcca-4338-8cbe-fb5bc6e04006"
   },
   "outputs": [
    {
     "data": {
      "text/html": [
       "<div>\n",
       "<style scoped>\n",
       "    .dataframe tbody tr th:only-of-type {\n",
       "        vertical-align: middle;\n",
       "    }\n",
       "\n",
       "    .dataframe tbody tr th {\n",
       "        vertical-align: top;\n",
       "    }\n",
       "\n",
       "    .dataframe thead th {\n",
       "        text-align: right;\n",
       "    }\n",
       "</style>\n",
       "<table border=\"1\" class=\"dataframe\">\n",
       "  <thead>\n",
       "    <tr style=\"text-align: right;\">\n",
       "      <th></th>\n",
       "      <th>Id</th>\n",
       "      <th>START</th>\n",
       "      <th>STOP</th>\n",
       "      <th>PATIENT</th>\n",
       "      <th>PROVIDER</th>\n",
       "      <th>ENCOUNTERCLASS</th>\n",
       "      <th>CODE</th>\n",
       "      <th>DESCRIPTION</th>\n",
       "      <th>COST</th>\n",
       "      <th>REASONCODE</th>\n",
       "      <th>REASONDESCRIPTION</th>\n",
       "      <th>HIGHCOST</th>\n",
       "    </tr>\n",
       "  </thead>\n",
       "  <tbody>\n",
       "    <tr>\n",
       "      <th>0</th>\n",
       "      <td>f7bdd127-5ce4-4cec-b4a4-c3f2583556b0</td>\n",
       "      <td>2005-09-10T04:49:37Z</td>\n",
       "      <td>2005-09-10T05:04:37Z</td>\n",
       "      <td>4b01e963-3afa-4f9b-b3b9-357ba5cdaab0</td>\n",
       "      <td>d733d4a9-080d-3593-b910-2366e652b7ea</td>\n",
       "      <td>ambulatory</td>\n",
       "      <td>185345009</td>\n",
       "      <td>Encounter for symptom</td>\n",
       "      <td>32.567690</td>\n",
       "      <td>36971009.0</td>\n",
       "      <td>Sinusitis (disorder)</td>\n",
       "      <td>1</td>\n",
       "    </tr>\n",
       "    <tr>\n",
       "      <th>1</th>\n",
       "      <td>ef42a115-766c-4ba5-9c36-f3ece13973f4</td>\n",
       "      <td>2009-07-12T04:49:37Z</td>\n",
       "      <td>2009-07-12T05:04:37Z</td>\n",
       "      <td>4b01e963-3afa-4f9b-b3b9-357ba5cdaab0</td>\n",
       "      <td>d733d4a9-080d-3593-b910-2366e652b7ea</td>\n",
       "      <td>ambulatory</td>\n",
       "      <td>185345009</td>\n",
       "      <td>Encounter for symptom</td>\n",
       "      <td>29.839323</td>\n",
       "      <td>444814009.0</td>\n",
       "      <td>Viral sinusitis (disorder)</td>\n",
       "      <td>1</td>\n",
       "    </tr>\n",
       "    <tr>\n",
       "      <th>2</th>\n",
       "      <td>c922b9ed-6c6e-40ac-a309-112439f732c7</td>\n",
       "      <td>2009-08-23T04:49:37Z</td>\n",
       "      <td>2009-08-23T06:10:37Z</td>\n",
       "      <td>4b01e963-3afa-4f9b-b3b9-357ba5cdaab0</td>\n",
       "      <td>d78e84ec-30aa-3bba-a33a-f29a3a454662</td>\n",
       "      <td>emergency</td>\n",
       "      <td>50849002</td>\n",
       "      <td>Emergency room admission (procedure)</td>\n",
       "      <td>16.329815</td>\n",
       "      <td>NaN</td>\n",
       "      <td>NaN</td>\n",
       "      <td>0</td>\n",
       "    </tr>\n",
       "    <tr>\n",
       "      <th>3</th>\n",
       "      <td>56921ac8-6a74-4276-a31c-2930d31d4f51</td>\n",
       "      <td>2011-11-04T04:49:37Z</td>\n",
       "      <td>2011-11-04T05:04:37Z</td>\n",
       "      <td>4b01e963-3afa-4f9b-b3b9-357ba5cdaab0</td>\n",
       "      <td>d733d4a9-080d-3593-b910-2366e652b7ea</td>\n",
       "      <td>wellness</td>\n",
       "      <td>185349003</td>\n",
       "      <td>Encounter for check up (procedure)</td>\n",
       "      <td>17.568799</td>\n",
       "      <td>NaN</td>\n",
       "      <td>NaN</td>\n",
       "      <td>0</td>\n",
       "    </tr>\n",
       "    <tr>\n",
       "      <th>4</th>\n",
       "      <td>3c95a0cb-95fb-4aea-9be4-a563fe3e9e51</td>\n",
       "      <td>2013-04-15T04:49:37Z</td>\n",
       "      <td>2013-04-15T05:04:37Z</td>\n",
       "      <td>4b01e963-3afa-4f9b-b3b9-357ba5cdaab0</td>\n",
       "      <td>d733d4a9-080d-3593-b910-2366e652b7ea</td>\n",
       "      <td>ambulatory</td>\n",
       "      <td>185345009</td>\n",
       "      <td>Encounter for symptom</td>\n",
       "      <td>29.783061</td>\n",
       "      <td>444814009.0</td>\n",
       "      <td>Viral sinusitis (disorder)</td>\n",
       "      <td>1</td>\n",
       "    </tr>\n",
       "  </tbody>\n",
       "</table>\n",
       "</div>"
      ],
      "text/plain": [
       "                                     Id                 START  \\\n",
       "0  f7bdd127-5ce4-4cec-b4a4-c3f2583556b0  2005-09-10T04:49:37Z   \n",
       "1  ef42a115-766c-4ba5-9c36-f3ece13973f4  2009-07-12T04:49:37Z   \n",
       "2  c922b9ed-6c6e-40ac-a309-112439f732c7  2009-08-23T04:49:37Z   \n",
       "3  56921ac8-6a74-4276-a31c-2930d31d4f51  2011-11-04T04:49:37Z   \n",
       "4  3c95a0cb-95fb-4aea-9be4-a563fe3e9e51  2013-04-15T04:49:37Z   \n",
       "\n",
       "                   STOP                               PATIENT  \\\n",
       "0  2005-09-10T05:04:37Z  4b01e963-3afa-4f9b-b3b9-357ba5cdaab0   \n",
       "1  2009-07-12T05:04:37Z  4b01e963-3afa-4f9b-b3b9-357ba5cdaab0   \n",
       "2  2009-08-23T06:10:37Z  4b01e963-3afa-4f9b-b3b9-357ba5cdaab0   \n",
       "3  2011-11-04T05:04:37Z  4b01e963-3afa-4f9b-b3b9-357ba5cdaab0   \n",
       "4  2013-04-15T05:04:37Z  4b01e963-3afa-4f9b-b3b9-357ba5cdaab0   \n",
       "\n",
       "                               PROVIDER ENCOUNTERCLASS       CODE  \\\n",
       "0  d733d4a9-080d-3593-b910-2366e652b7ea     ambulatory  185345009   \n",
       "1  d733d4a9-080d-3593-b910-2366e652b7ea     ambulatory  185345009   \n",
       "2  d78e84ec-30aa-3bba-a33a-f29a3a454662      emergency   50849002   \n",
       "3  d733d4a9-080d-3593-b910-2366e652b7ea       wellness  185349003   \n",
       "4  d733d4a9-080d-3593-b910-2366e652b7ea     ambulatory  185345009   \n",
       "\n",
       "                            DESCRIPTION       COST   REASONCODE  \\\n",
       "0                 Encounter for symptom  32.567690   36971009.0   \n",
       "1                 Encounter for symptom  29.839323  444814009.0   \n",
       "2  Emergency room admission (procedure)  16.329815          NaN   \n",
       "3    Encounter for check up (procedure)  17.568799          NaN   \n",
       "4                 Encounter for symptom  29.783061  444814009.0   \n",
       "\n",
       "            REASONDESCRIPTION  HIGHCOST  \n",
       "0        Sinusitis (disorder)         1  \n",
       "1  Viral sinusitis (disorder)         1  \n",
       "2                         NaN         0  \n",
       "3                         NaN         0  \n",
       "4  Viral sinusitis (disorder)         1  "
      ]
     },
     "execution_count": 26,
     "metadata": {},
     "output_type": "execute_result"
    }
   ],
   "source": [
    "encounters_ma.head()"
   ]
  },
  {
   "cell_type": "code",
   "execution_count": 27,
   "metadata": {},
   "outputs": [
    {
     "data": {
      "text/plain": [
       "Index(['Id', 'START', 'STOP', 'PATIENT', 'PROVIDER', 'ENCOUNTERCLASS', 'CODE',\n",
       "       'DESCRIPTION', 'COST', 'REASONCODE', 'REASONDESCRIPTION', 'HIGHCOST'],\n",
       "      dtype='object')"
      ]
     },
     "execution_count": 27,
     "metadata": {},
     "output_type": "execute_result"
    }
   ],
   "source": [
    "encounters_ma.keys()"
   ]
  },
  {
   "cell_type": "code",
   "execution_count": 36,
   "metadata": {},
   "outputs": [
    {
     "data": {
      "text/plain": [
       "Id                       0\n",
       "START                    0\n",
       "STOP                     0\n",
       "PATIENT                  0\n",
       "PROVIDER               308\n",
       "ENCOUNTERCLASS           0\n",
       "CODE                     0\n",
       "DESCRIPTION              0\n",
       "COST                     0\n",
       "REASONCODE           66080\n",
       "REASONDESCRIPTION    66080\n",
       "HIGHCOST                 0\n",
       "dtype: int64"
      ]
     },
     "execution_count": 36,
     "metadata": {},
     "output_type": "execute_result"
    }
   ],
   "source": [
    "#check for missing values\n",
    "encounters_ma.isnull().sum()"
   ]
  },
  {
   "cell_type": "code",
   "execution_count": 28,
   "metadata": {},
   "outputs": [],
   "source": [
    "def generate_y(df, X, y, y_cat, cadre, corr):\n",
    "    \"\"\"\n",
    "    Input:\n",
    "    df = A dataframe to be used to generate the dv.\n",
    "    X = The columns of the dataframe to be used in generating the y variable.\n",
    "    y = The dependent variable for the analysis. \n",
    "    y_cat = A categorical variable based on the \n",
    "    cadre = the # of cadres. \n",
    "    corr= Correlation amongst cadres. \n",
    "    \"\"\"\n",
    "    \n",
    "    #Use This numpy.random.multivariate_normal\n",
    "    \n",
    "    df[y]=0  #set y as 0\n",
    "    betas=np.array([])  #matrix for betas\n",
    "    \n",
    "    #Loop through for each cadre\n",
    "    for x in cadre:\n",
    "        \n",
    "        dum=pd.get_dummies(df.loc[df[cadre]==x,cols], columns=cols, dummy_na = True )\n",
    "        #print(dum.shape)\n",
    "        beta = np.random.uniform(low=0.0, high=32.0, size=dum.shape[1])\n",
    "        #print(betas.shape)\n",
    "        output=beta.dot(dum.T)\n",
    "        #print(dv.shape)\n",
    "        df.loc[df[cadre]==x, dv]= output\n",
    "\n",
    "    #set up bins\n",
    "    df[y_cat] = 0\n",
    "    #add some randomness. \n",
    "    df[y]=df[y]+np.random.uniform(low=0-mean/2, high=0+mean/2, size=df.shape[0])\n",
    "    mean=df[y].mean()\n",
    "    std=df[y].std()\n",
    "    out = mean+std\n",
    "    df.loc[df['COST']>=out, 'HIGHCOST'] = 1\n",
    "    return df, betas\n",
    "\n",
    "\n"
   ]
  },
  {
   "cell_type": "code",
   "execution_count": 29,
   "metadata": {
    "colab": {
     "base_uri": "https://localhost:8080/",
     "height": 370
    },
    "colab_type": "code",
    "id": "cqc0VMY86eyY",
    "outputId": "1d281dba-4acc-481e-97db-ad84fb30c15a"
   },
   "outputs": [],
   "source": [
    "def generate_cost(df,cols,cadre,dv):\n",
    "    df[dv]=0\n",
    "    betas=np.array([])\n",
    "    uniq=encounters_ma[cadre].unique()\n",
    "    for x in uniq:\n",
    "        dum=pd.get_dummies(df.loc[df[cadre]==x,cols], columns=cols, dummy_na = True )\n",
    "        #print(dum.shape)\n",
    "        beta = np.random.uniform(low=0.0, high=32.0, size=dum.shape[1])\n",
    "        #print(betas.shape)\n",
    "        output=beta.dot(dum.T)\n",
    "        #print(dv.shape)\n",
    "        df.loc[df[cadre]==x, dv]= output\n",
    "    mean=df[dv].mean()\n",
    "    std=df[dv].std()\n",
    "    out = mean+std\n",
    "    #set up bins\n",
    "    df['HIGHCOST'] = 0\n",
    "    df[dv]=df[dv]+np.random.uniform(low=0-mean/2, high=0+mean/2, size=df.shape[0])\n",
    "    df.loc[df['COST']>=out, 'HIGHCOST'] = 1\n",
    "    return df, betas\n",
    "\n",
    "encounters_ny2, betas = generate_cost(encounters_ny, ['CODE'],'ENCOUNTERCLASS','COST')\n",
    "encounters_ny2.to_csv('./data/ny/encounters.csv', index = False)\n",
    "encounters_ma2, betas = generate_cost(encounters_ma, ['CODE'],'ENCOUNTERCLASS','COST')\n",
    "encounters_ma2.to_csv('./data/ma/encounters.csv', index = False)"
   ]
  },
  {
   "cell_type": "markdown",
   "metadata": {
    "colab_type": "text",
    "id": "1aMi_E27oICs"
   },
   "source": [
    "# Cost Regression Analysis\n",
    "\n",
    "### Dummy Creation and Splint to Train and Test for NY ONLY \n",
    "\n",
    "The goal of the code below is to predict the `COST` from `CODE` and `ENCOUNTERCLASS`.  \n",
    "\n",
    "\n",
    "(2. 5 points) First create dummies from `CODE` and `ENCOUNTERCLASS`.  Don't use any other variables.  split your data into an 70% train and 30% validation using a `random_state` of 111. For validation, set: \n",
    "\n",
    "```\n",
    "splittest1 = X_train.iloc[5,2]\n",
    "\n",
    "splittest2 = X_test.iloc[7,4]\n",
    "```\n",
    "\n",
    "\n"
   ]
  },
  {
   "cell_type": "code",
   "execution_count": 30,
   "metadata": {
    "colab": {
     "base_uri": "https://localhost:8080/",
     "height": 76
    },
    "colab_type": "code",
    "id": "q6EnzsJyoICu",
    "outputId": "f3b13e13-fd51-4046-fde0-b89815d6ebff"
   },
   "outputs": [
    {
     "name": "stdout",
     "output_type": "stream",
     "text": [
      "(72930, 40) 0\n"
     ]
    }
   ],
   "source": [
    "from sklearn.model_selection import train_test_split\n",
    "from sklearn.linear_model import LinearRegression\n",
    "\n",
    "test_size=0.3\n",
    "cols=['CODE','ENCOUNTERCLASS']\n",
    "X = pd.get_dummies(encounters_ny.loc[:,cols], columns=cols, dummy_na = True )\n",
    "y = encounters_ny['COST']\n",
    "X_train, X_test, y_train, y_test = train_test_split(X, y, test_size=0.3, random_state=111)\n",
    "#verify split\n",
    "splittest1 = X_train.shape\n",
    "splittest2 = X_test.iloc[7,4]\n",
    "print(splittest1, splittest2)"
   ]
  },
  {
   "cell_type": "markdown",
   "metadata": {
    "colab_type": "text",
    "id": "nV6TiFTmoICx"
   },
   "source": [
    "### Predict Cost via Linear Regression \n",
    "\n",
    "(3. 10 points) Using linear regression analysis, use the `CODE` and `ENCOUNTERCLASS` as independent variables to predict `COST`. This is your naive model. Report R-Squared for both training `r2_train_cost` and validation `r2_test_cost`. \n",
    "\n",
    "\n"
   ]
  },
  {
   "cell_type": "code",
   "execution_count": 31,
   "metadata": {
    "colab": {
     "base_uri": "https://localhost:8080/",
     "height": 72
    },
    "colab_type": "code",
    "id": "WKKqv5ZpoICy",
    "outputId": "6f0ff76a-ab9f-451d-98a4-55a9b2c3a741"
   },
   "outputs": [
    {
     "name": "stdout",
     "output_type": "stream",
     "text": [
      "R2 for Train: 0.825964358869185\n",
      "R2 for Test (cross validation)： 0.8262169917468537\n"
     ]
    }
   ],
   "source": [
    "#3 Answer\n",
    "from sklearn.linear_model import LinearRegression\n",
    "lm = LinearRegression()\n",
    "lm.fit( X_train, y_train )\n",
    "r2_train_cost=0 # Make equal to the R2. \n",
    "r2_train_cost = lm.score( X_train, y_train )\n",
    "r2_test_cost = lm.score(X_test, y_test)\n",
    "print('R2 for Train:', r2_train_cost)\n",
    "print('R2 for Test (cross validation)：', r2_test_cost )"
   ]
  },
  {
   "cell_type": "markdown",
   "metadata": {
    "colab_type": "text",
    "id": "jAucAlQIoIC2"
   },
   "source": [
    "# Creat Graph of Encounter class vs Cost\n",
    "\n",
    "(4. 10 points) Create a graph of encounter class vs cost. It should look like the graph below (created via seaborn). \n"
   ]
  },
  {
   "cell_type": "code",
   "execution_count": 32,
   "metadata": {
    "colab": {},
    "colab_type": "code",
    "id": "M5b0u7uyoIC3"
   },
   "outputs": [],
   "source": [
    "%matplotlib inline"
   ]
  },
  {
   "cell_type": "code",
   "execution_count": 33,
   "metadata": {
    "colab": {
     "base_uri": "https://localhost:8080/",
     "height": 283
    },
    "colab_type": "code",
    "id": "Vg4u1tjoXETL",
    "outputId": "a90d937e-9a60-4bbb-9f13-3fcbf2e627d1"
   },
   "outputs": [
    {
     "data": {
      "image/png": "[encoded data removed]",
      "text/plain": [
       "<Figure size 432x288 with 1 Axes>"
      ]
     },
     "metadata": {},
     "output_type": "display_data"
    }
   ],
   "source": [
    "#4 Answer\n",
    "import seaborn as sns\n",
    "dev = sns.barplot(y=\"ENCOUNTERCLASS\", x=\"COST\", data=encounters_ny)\n",
    "pic =dev.get_figure()\n"
   ]
  },
  {
   "cell_type": "code",
   "execution_count": null,
   "metadata": {},
   "outputs": [],
   "source": [
    "#Alternative plot\n",
    "sns.countplot(x=\"HIGHCOST\", hue=\"ENCOUNTERCLASS\", data=encounters_ny)"
   ]
  },
  {
   "cell_type": "markdown",
   "metadata": {
    "colab_type": "text",
    "id": "vyOd-KhooIC-"
   },
   "source": [
    "# Create this graph. \n",
    "\n",
    "ENCOUNTERCLASS is on they axis and  and COST on X axis.\n",
    "\n",
    "![Imgur](https://i.imgur.com/asCDZSM.png)\n"
   ]
  },
  {
   "cell_type": "markdown",
   "metadata": {
    "colab_type": "text",
    "id": "aQ06eTNFXEXk"
   },
   "source": [
    "# High Cost Patients Classification \n",
    "\n",
    "A second Challenge is determinine the most expensive individuals.  This is set as all those groups that are more than 1 standard deviation above the mean, indicated as 'HIGHCOST' in the dataset.  \n",
    "\n",
    "(5. 5 points) \n",
    "Overall, count the total number of individuals who are high cost in NY (i.e., where encounters_ny['HIGHCOST'] is equal to 1.) Assign to the value `total_high_cost_ny`. \n",
    "\n",
    "Overall, count the total number of individuals who are high cost in MA (i.e., where encounters_ny['HIGHCOST'] is equal to 1.) Assign to the value `total_high_cost_ma`. \n",
    "\n",
    "\n"
   ]
  },
  {
   "cell_type": "code",
   "execution_count": 34,
   "metadata": {
    "colab": {
     "base_uri": "https://localhost:8080/",
     "height": 56
    },
    "colab_type": "code",
    "id": "bPGRyrs4oIDA",
    "outputId": "f5121071-e0c0-4ac9-c925-65efd8e14672"
   },
   "outputs": [
    {
     "name": "stdout",
     "output_type": "stream",
     "text": [
      "24338 22474\n"
     ]
    }
   ],
   "source": [
    "#5 Answer \n",
    "total_high_cost_ny=encounters_ny['HIGHCOST'].sum()\n",
    "total_high_cost_ma=encounters_ma['HIGHCOST'].sum()\n",
    "\n",
    "print(total_high_cost_ny, total_high_cost_ma)"
   ]
  },
  {
   "cell_type": "markdown",
   "metadata": {
    "colab_type": "text",
    "id": "a5mGGSz4oIDE"
   },
   "source": [
    "### Split the Train and test set for Classification with you DV set to HIGHCOST for NY Only. \n",
    "\n",
    "\n",
    "(6. 5 points) First split your data into an 70% train and 30% validation. Make sure that the results are *stratified* (equal classes in train and test) with `random_state = 111`.  \n",
    "\n",
    "Also set the following:\n",
    "\n",
    "```\n",
    "splittest3 = y_train.iloc[5]\n",
    "splittest4 = y_test.iloc[3]\n",
    "```\n"
   ]
  },
  {
   "cell_type": "code",
   "execution_count": 35,
   "metadata": {
    "colab": {
     "base_uri": "https://localhost:8080/",
     "height": 56
    },
    "colab_type": "code",
    "id": "RK4j7B0JoIDE",
    "outputId": "a61f363b-c6ac-4000-c443-f7a901e8994f"
   },
   "outputs": [
    {
     "name": "stdout",
     "output_type": "stream",
     "text": [
      "0 0\n"
     ]
    }
   ],
   "source": [
    "#6 Answer \n",
    "#Set y equal to train encounters_ny['HIGHCOST'] \n",
    "y = encounters_ny['HIGHCOST']\n",
    "X_train, X_test, y_train, y_test = train_test_split(X, y, test_size=0.3, random_state=111,stratify=y)\n",
    "\n",
    "#This will be used for testing. \n",
    "splittest3 = y_train.iloc[3]\n",
    "splittest4 = y_test.iloc[17]\n",
    "print (splittest3, splittest4)"
   ]
  },
  {
   "cell_type": "markdown",
   "metadata": {
    "colab_type": "text",
    "id": "2SZb1zDLoIDK"
   },
   "source": [
    "### Classification with Random Forrest\n",
    "(8. 5 points) Use a RandomForestClassifier to predict the 'HIGH_COST' with use the `CODE` and `ENCOUNTERCLASS` as independent variables.  \n",
    "\n",
    "Also set the following:\n",
    "\n",
    "```\n",
    "train_accuracy\n",
    "test_accuracy\n",
    "```"
   ]
  },
  {
   "cell_type": "code",
   "execution_count": 17,
   "metadata": {
    "colab": {
     "base_uri": "https://localhost:8080/",
     "height": 108
    },
    "colab_type": "code",
    "id": "SIXHnQQsoIDL",
    "outputId": "91f36187-6fb9-48f9-88c5-9e546ffd26e0"
   },
   "outputs": [
    {
     "name": "stdout",
     "output_type": "stream",
     "text": [
      "Classifier Accuracy for Train:  0.7823940765117235\n",
      "Classifier Accuracy for Test:  0.7819618633222422\n"
     ]
    }
   ],
   "source": [
    "from sklearn.ensemble import RandomForestClassifier\n",
    "classifier = RandomForestClassifier()\n",
    "#This fits the model object to the data.\n",
    "classifier.fit(X_train,  y_train)\n",
    "train_accuracy = classifier.score(X_train, y_train)\n",
    "test_accuracy = classifier.score( X_test,  y_test)\n",
    "#This creates the prediction. \n",
    "print(\"Classifier Accuracy for Train: \", train_accuracy )\n",
    "print(\"Classifier Accuracy for Test: \", test_accuracy )"
   ]
  },
  {
   "cell_type": "markdown",
   "metadata": {
    "colab_type": "text",
    "id": "zcSiCldTXEX2"
   },
   "source": [
    "### Submission\n",
    "For the final submission, please submit a link to this notebook.\n",
    "\n"
   ]
  },
  {
   "cell_type": "code",
   "execution_count": 18,
   "metadata": {
    "colab": {
     "base_uri": "https://localhost:8080/",
     "height": 840
    },
    "colab_type": "code",
    "id": "TbW93aFyVHQ4",
    "outputId": "754677ac-d9d0-4853-fde1-9e1e2e5edff0"
   },
   "outputs": [
    {
     "name": "stdout",
     "output_type": "stream",
     "text": [
      "--2019-05-10 02:16:49--  https://github.com/jkuruzovich/final-starter-2019/raw/master/tests.zip\n",
      "Resolving github.com (github.com)... 192.30.253.112\n",
      "Connecting to github.com (github.com)|192.30.253.112|:443... connected.\n",
      "HTTP request sent, awaiting response... 302 Found\n",
      "Location: https://raw.githubusercontent.com/jkuruzovich/final-starter-2019/master/tests.zip [following]\n",
      "--2019-05-10 02:16:49--  https://raw.githubusercontent.com/jkuruzovich/final-starter-2019/master/tests.zip\n",
      "Resolving raw.githubusercontent.com (raw.githubusercontent.com)... 151.101.128.133, 151.101.192.133, 151.101.64.133, ...\n",
      "Connecting to raw.githubusercontent.com (raw.githubusercontent.com)|151.101.128.133|:443... connected.\n",
      "HTTP request sent, awaiting response... 200 OK\n",
      "Length: 4414 (4.3K) [application/zip]\n",
      "Saving to: ‘tests.zip’\n",
      "\n",
      "100%[======================================>] 4,414       --.-K/s   in 0s      \n",
      "\n",
      "2019-05-10 02:16:49 (42.6 MB/s) - ‘tests.zip’ saved [4414/4414]\n",
      "\n",
      "Archive:  tests.zip\n",
      "  inflating: tests/q06a.py           \n",
      "  inflating: tests/q07a.py           \n",
      "  inflating: tests/q05a.py           \n",
      " extracting: tests/__init__.py       \n",
      "  inflating: tests/q01a.py           \n",
      "  inflating: tests/q03a.py           \n",
      "  inflating: tests/q02a.py           \n",
      "  inflating: tests/q01b.py           \n",
      "  inflating: tests/q03b.py           \n",
      "  inflating: tests/q02b.py           \n",
      "  inflating: tests/q06b.py           \n",
      "  inflating: tests/q07b.py           \n",
      "  inflating: tests/q05b.py           \n",
      "   creating: tests/.ipynb_checkpoints/\n",
      "--2019-05-10 02:16:50--  https://github.com/jkuruzovich/final-starter-2019/blob/master/final.ok\n",
      "Resolving github.com (github.com)... 192.30.253.112\n",
      "Connecting to github.com (github.com)|192.30.253.112|:443... connected.\n",
      "HTTP request sent, awaiting response... 200 OK\n",
      "Length: unspecified [text/html]\n",
      "Saving to: ‘final.ok’\n",
      "\n",
      "    [ <=>                                   ] 66,250      --.-K/s   in 0.02s   \n",
      "\n",
      "2019-05-10 02:16:50 (3.32 MB/s) - ‘final.ok’ saved [66250]\n",
      "\n"
     ]
    }
   ],
   "source": [
    "#This just gets the data and preps the environment. \n",
    "tests=\"https://github.com/jkuruzovich/final-starter-2019/raw/master/tests.zip\"\n",
    "ok=\"https://github.com/jkuruzovich/final-starter-2019/blob/master/final.ok\"\n",
    "!wget $tests && unzip -o tests.zip && wget $ok"
   ]
  },
  {
   "cell_type": "code",
   "execution_count": 19,
   "metadata": {
    "colab": {
     "base_uri": "https://localhost:8080/",
     "height": 312
    },
    "colab_type": "code",
    "id": "wF0Qc5ap2X_2",
    "outputId": "4fd8a9c3-8140-4223-eacb-858d0c1e5023"
   },
   "outputs": [
    {
     "name": "stdout",
     "output_type": "stream",
     "text": [
      "\u001b[33mSkipping okgrade as it is not installed.\u001b[0m\n",
      "Collecting git+https://github.com/data-8/Gofer-Grader\n",
      "  Cloning https://github.com/data-8/Gofer-Grader to /tmp/pip-req-build-v14ujfxd\n",
      "Requirement already satisfied: jinja2 in /usr/local/etc/anaconda3/lib/python3.6/site-packages (from gofer-grader==1.0.9) (2.10)\n",
      "Requirement already satisfied: pygments in /usr/local/etc/anaconda3/lib/python3.6/site-packages (from gofer-grader==1.0.9) (2.2.0)\n",
      "Requirement already satisfied: tornado in /usr/local/etc/anaconda3/lib/python3.6/site-packages (from gofer-grader==1.0.9) (5.0.2)\n",
      "Requirement already satisfied: MarkupSafe>=0.23 in /usr/local/etc/anaconda3/lib/python3.6/site-packages (from jinja2->gofer-grader==1.0.9) (1.0)\n",
      "Building wheels for collected packages: gofer-grader\n",
      "  Running setup.py bdist_wheel for gofer-grader ... \u001b[?25ldone\n",
      "\u001b[?25h  Stored in directory: /tmp/pip-ephem-wheel-cache-u07adklm/wheels/9e/62/24/8563ae039051d6ba979557d1766bfebbda5dd08f8572e3e35d\n",
      "Successfully built gofer-grader\n",
      "\u001b[31mfastparquet 0.1.6 requires pytest-runner, which is not installed.\u001b[0m\n",
      "\u001b[31mdistributed 1.21.8 requires msgpack, which is not installed.\u001b[0m\n",
      "\u001b[31mtwisted 18.7.0 has requirement Automat>=0.3.0, but you'll have automat 0.0.0 which is incompatible.\u001b[0m\n",
      "Installing collected packages: gofer-grader\n",
      "\u001b[31mCould not install packages due to an EnvironmentError: [Errno 13] Permission denied: '/usr/local/etc/anaconda3/lib/python3.6/site-packages/client'\n",
      "Consider using the `--user` option or check the permissions.\n",
      "\u001b[0m\n",
      "\u001b[33mYou are using pip version 10.0.1, however version 19.1.1 is available.\n",
      "You should consider upgrading via the 'pip install --upgrade pip' command.\u001b[0m\n"
     ]
    }
   ],
   "source": [
    "!pip uninstall okgrade -y && pip install git+https://github.com/data-8/Gofer-Grader  \n"
   ]
  },
  {
   "cell_type": "code",
   "execution_count": 20,
   "metadata": {
    "colab": {},
    "colab_type": "code",
    "id": "dteq9-_bRU9Y"
   },
   "outputs": [
    {
     "ename": "ModuleNotFoundError",
     "evalue": "No module named 'client'",
     "output_type": "error",
     "traceback": [
      "\u001b[0;31m---------------------------------------------------------------------------\u001b[0m",
      "\u001b[0;31mModuleNotFoundError\u001b[0m                       Traceback (most recent call last)",
      "\u001b[0;32m<ipython-input-20-eedbacf1c900>\u001b[0m in \u001b[0;36m<module>\u001b[0;34m()\u001b[0m\n\u001b[1;32m     10\u001b[0m \u001b[0;34m\u001b[0m\u001b[0m\n\u001b[1;32m     11\u001b[0m \u001b[0;34m\u001b[0m\u001b[0m\n\u001b[0;32m---> 12\u001b[0;31m \u001b[0;32mfrom\u001b[0m \u001b[0mclient\u001b[0m\u001b[0;34m.\u001b[0m\u001b[0mapi\u001b[0m\u001b[0;34m.\u001b[0m\u001b[0mnotebook\u001b[0m \u001b[0;32mimport\u001b[0m \u001b[0mNotebook\u001b[0m\u001b[0;34m\u001b[0m\u001b[0m\n\u001b[0m\u001b[1;32m     13\u001b[0m \u001b[0mok\u001b[0m \u001b[0;34m=\u001b[0m \u001b[0mNotebook\u001b[0m\u001b[0;34m(\u001b[0m\u001b[0;34m'final.ok'\u001b[0m\u001b[0;34m)\u001b[0m\u001b[0;34m\u001b[0m\u001b[0m\n\u001b[1;32m     14\u001b[0m \u001b[0m_\u001b[0m \u001b[0;34m=\u001b[0m \u001b[0mok\u001b[0m\u001b[0;34m.\u001b[0m\u001b[0mauth\u001b[0m\u001b[0;34m(\u001b[0m\u001b[0minline\u001b[0m\u001b[0;34m=\u001b[0m\u001b[0;32mFalse\u001b[0m\u001b[0;34m)\u001b[0m\u001b[0;34m\u001b[0m\u001b[0m\n",
      "\u001b[0;31mModuleNotFoundError\u001b[0m: No module named 'client'"
     ]
    }
   ],
   "source": [
    "%%capture  \n",
    "#This capture command supresses output. \n",
    "\n",
    "#***********\n",
    "#Add the manually graded ones\n",
    "q4=5\n",
    "comments=\"\"\n",
    "points_per_test=2.5\n",
    "\n",
    "#***********\n",
    "\n",
    "\n",
    "from client.api.notebook import Notebook\n",
    "ok = Notebook('final.ok')\n",
    "_ = ok.auth(inline=False)\n",
    "from bs4 import BeautifulSoup\n",
    "import pandas as pd\n",
    "import os\n",
    "\n",
    "#Grade Results\n",
    "results= {q[:-3]:ok.grade(q[:-3]) for q in os.listdir(\"tests\") if q.startswith('q')}\n",
    "\n",
    "#If running locally with lots of notebooks load the grades. \n",
    "df = pd.DataFrame()\n",
    "row=df.shape[0]\n",
    "df.loc[row,'student']=name  #This is set in the last.\n",
    "df.loc[row,'rcsid']=rcsid   #This is set in the last. \n",
    "total_grade=0\n",
    "#This loops through the results\n",
    "for key, val in results.items(): \n",
    "    df.loc[row,key]=val.grade\n",
    "    results_key=str(key)+\"-failed\"\n",
    "    df.loc[row,key]=val.grade*points_per_test\n",
    "    #We use beautiful soup to parse the tests. \n",
    "    soup = BeautifulSoup(str(val.failed_tests), \"lxml\")\n",
    "    #There are multiple components, but the expected data seems most valuable. \n",
    "    got = soup.get_text().split('\\\\n')[16:20]\n",
    "    df.loc[row,results_key]=str(got)\n",
    "    total_grade+=df.loc[row,key]  #total grade\n",
    "df.loc[row, 'q4']=q4\n",
    "total_grade+=q4\n",
    "df.loc[row,'total_grade']=total_grade\n",
    "df.loc[row,'comments']=comments\n",
    "\n",
    "if not os.path.isfile('grades.csv'):\n",
    "   df.to_csv('grades.csv', index=False)\n",
    "else: # else it exists so append without writing the header\n",
    "   df.to_csv('grades.csv', mode='a', header=False,index=False)\n",
    "\n"
   ]
  },
  {
   "cell_type": "code",
   "execution_count": 21,
   "metadata": {
    "colab": {},
    "colab_type": "code",
    "id": "mbry95D6Wb5s"
   },
   "outputs": [
    {
     "name": "stdout",
     "output_type": "stream",
     "text": [
      "cat: grades: No such file or directory\r\n"
     ]
    }
   ],
   "source": [
    "!cat grades"
   ]
  },
  {
   "cell_type": "code",
   "execution_count": 22,
   "metadata": {
    "colab": {
     "base_uri": "https://localhost:8080/",
     "height": 548
    },
    "colab_type": "code",
    "id": "JSk6NIYmR932",
    "outputId": "411e5b4e-c1a0-487c-8cbe-1ccf3ca50a2a"
   },
   "outputs": [
    {
     "ename": "NameError",
     "evalue": "name 'df' is not defined",
     "output_type": "error",
     "traceback": [
      "\u001b[0;31m---------------------------------------------------------------------------\u001b[0m",
      "\u001b[0;31mNameError\u001b[0m                                 Traceback (most recent call last)",
      "\u001b[0;32m<ipython-input-22-0e7e4505b240>\u001b[0m in \u001b[0;36m<module>\u001b[0;34m()\u001b[0m\n\u001b[0;32m----> 1\u001b[0;31m \u001b[0mcols\u001b[0m\u001b[0;34m=\u001b[0m\u001b[0mdf\u001b[0m\u001b[0;34m.\u001b[0m\u001b[0mcolumns\u001b[0m\u001b[0;34m\u001b[0m\u001b[0m\n\u001b[0m\u001b[1;32m      2\u001b[0m \u001b[0mrow\u001b[0m\u001b[0;34m=\u001b[0m\u001b[0mdf\u001b[0m\u001b[0;34m.\u001b[0m\u001b[0mshape\u001b[0m\u001b[0;34m[\u001b[0m\u001b[0;36m0\u001b[0m\u001b[0;34m]\u001b[0m\u001b[0;34m-\u001b[0m\u001b[0;36m1\u001b[0m\u001b[0;34m\u001b[0m\u001b[0m\n\u001b[1;32m      3\u001b[0m \u001b[0;32mfor\u001b[0m \u001b[0mx\u001b[0m \u001b[0;32min\u001b[0m \u001b[0mrange\u001b[0m\u001b[0;34m(\u001b[0m\u001b[0mdf\u001b[0m\u001b[0;34m.\u001b[0m\u001b[0mshape\u001b[0m\u001b[0;34m[\u001b[0m\u001b[0;36m1\u001b[0m\u001b[0;34m]\u001b[0m\u001b[0;34m)\u001b[0m\u001b[0;34m:\u001b[0m\u001b[0;34m\u001b[0m\u001b[0m\n\u001b[1;32m      4\u001b[0m   \u001b[0mprint\u001b[0m\u001b[0;34m(\u001b[0m\u001b[0mcols\u001b[0m\u001b[0;34m[\u001b[0m\u001b[0mx\u001b[0m\u001b[0;34m]\u001b[0m\u001b[0;34m,\u001b[0m\u001b[0;34m\" = \"\u001b[0m\u001b[0;34m,\u001b[0m  \u001b[0mdf\u001b[0m\u001b[0;34m.\u001b[0m\u001b[0miloc\u001b[0m\u001b[0;34m[\u001b[0m\u001b[0mrow\u001b[0m\u001b[0;34m,\u001b[0m\u001b[0mx\u001b[0m\u001b[0;34m]\u001b[0m\u001b[0;34m)\u001b[0m\u001b[0;34m\u001b[0m\u001b[0m\n\u001b[1;32m      5\u001b[0m \u001b[0;34m\u001b[0m\u001b[0m\n",
      "\u001b[0;31mNameError\u001b[0m: name 'df' is not defined"
     ]
    }
   ],
   "source": [
    "cols=df.columns\n",
    "row=df.shape[0]-1\n",
    "for x in range(df.shape[1]):\n",
    "  print(cols[x],\" = \",  df.iloc[row,x])\n",
    "  "
   ]
  },
  {
   "cell_type": "code",
   "execution_count": null,
   "metadata": {
    "colab": {
     "base_uri": "https://localhost:8080/",
     "height": 260
    },
    "colab_type": "code",
    "id": "73ImeQnZXMQ8",
    "outputId": "73b95240-e1bf-493b-8adc-75c26bacf6d4"
   },
   "outputs": [
    {
     "data": {
      "text/html": [
       "<div>\n",
       "<style scoped>\n",
       "    .dataframe tbody tr th:only-of-type {\n",
       "        vertical-align: middle;\n",
       "    }\n",
       "\n",
       "    .dataframe tbody tr th {\n",
       "        vertical-align: top;\n",
       "    }\n",
       "\n",
       "    .dataframe thead th {\n",
       "        text-align: right;\n",
       "    }\n",
       "</style>\n",
       "<table border=\"1\" class=\"dataframe\">\n",
       "  <thead>\n",
       "    <tr style=\"text-align: right;\">\n",
       "      <th></th>\n",
       "      <th>student</th>\n",
       "      <th>rcsid</th>\n",
       "      <th>q05b</th>\n",
       "      <th>q05b-failed</th>\n",
       "      <th>q01a</th>\n",
       "      <th>q01a-failed</th>\n",
       "      <th>q07a</th>\n",
       "      <th>q07a-failed</th>\n",
       "      <th>q02b</th>\n",
       "      <th>q02b-failed</th>\n",
       "      <th>...</th>\n",
       "      <th>q07b-failed</th>\n",
       "      <th>q05a</th>\n",
       "      <th>q05a-failed</th>\n",
       "      <th>q06a</th>\n",
       "      <th>q06a-failed</th>\n",
       "      <th>q02a</th>\n",
       "      <th>q02a-failed</th>\n",
       "      <th>q4</th>\n",
       "      <th>total_grade</th>\n",
       "      <th>comments</th>\n",
       "    </tr>\n",
       "  </thead>\n",
       "  <tbody>\n",
       "    <tr>\n",
       "      <th>0</th>\n",
       "      <td>enter your name</td>\n",
       "      <td>rcsid</td>\n",
       "      <td>2.5</td>\n",
       "      <td>[]</td>\n",
       "      <td>2.5</td>\n",
       "      <td>[]</td>\n",
       "      <td>2.5</td>\n",
       "      <td>[]</td>\n",
       "      <td>2.5</td>\n",
       "      <td>[]</td>\n",
       "      <td>...</td>\n",
       "      <td>[]</td>\n",
       "      <td>2.5</td>\n",
       "      <td>[]</td>\n",
       "      <td>2.5</td>\n",
       "      <td>[]</td>\n",
       "      <td>2.5</td>\n",
       "      <td>[]</td>\n",
       "      <td>5.0</td>\n",
       "      <td>35.0</td>\n",
       "      <td>NaN</td>\n",
       "    </tr>\n",
       "    <tr>\n",
       "      <th>1</th>\n",
       "      <td>enter your name</td>\n",
       "      <td>rcsid</td>\n",
       "      <td>2.5</td>\n",
       "      <td>[]</td>\n",
       "      <td>2.5</td>\n",
       "      <td>[]</td>\n",
       "      <td>2.5</td>\n",
       "      <td>[]</td>\n",
       "      <td>2.5</td>\n",
       "      <td>[]</td>\n",
       "      <td>...</td>\n",
       "      <td>[]</td>\n",
       "      <td>2.5</td>\n",
       "      <td>[]</td>\n",
       "      <td>2.5</td>\n",
       "      <td>[]</td>\n",
       "      <td>2.5</td>\n",
       "      <td>[]</td>\n",
       "      <td>5.0</td>\n",
       "      <td>35.0</td>\n",
       "      <td>NaN</td>\n",
       "    </tr>\n",
       "  </tbody>\n",
       "</table>\n",
       "<p>2 rows × 29 columns</p>\n",
       "</div>"
      ],
      "text/plain": [
       "           student  rcsid  q05b q05b-failed  q01a q01a-failed  q07a  \\\n",
       "0  enter your name  rcsid   2.5          []   2.5          []   2.5   \n",
       "1  enter your name  rcsid   2.5          []   2.5          []   2.5   \n",
       "\n",
       "  q07a-failed  q02b q02b-failed  ...  q07b-failed q05a  q05a-failed q06a  \\\n",
       "0          []   2.5          []  ...           []  2.5           []  2.5   \n",
       "1          []   2.5          []  ...           []  2.5           []  2.5   \n",
       "\n",
       "   q06a-failed q02a  q02a-failed   q4  total_grade comments  \n",
       "0           []  2.5           []  5.0         35.0      NaN  \n",
       "1           []  2.5           []  5.0         35.0      NaN  \n",
       "\n",
       "[2 rows x 29 columns]"
      ]
     },
     "execution_count": 33,
     "metadata": {
      "tags": []
     },
     "output_type": "execute_result"
    }
   ],
   "source": [
    "#See All Records\n",
    "df= pd.read_csv('grades.csv')\n",
    "df"
   ]
  }
 ],
 "metadata": {
  "colab": {
   "collapsed_sections": [],
   "name": "Generator.ipynb",
   "provenance": [],
   "version": "0.3.2"
  },
  "kernelspec": {
   "display_name": "Python [default]",
   "language": "python",
   "name": "python3"
  },
  "language_info": {
   "codemirror_mode": {
    "name": "ipython",
    "version": 3
   },
   "file_extension": ".py",
   "mimetype": "text/x-python",
   "name": "python",
   "nbconvert_exporter": "python",
   "pygments_lexer": "ipython3",
   "version": "3.6.5"
  }
 },
 "nbformat": 4,
 "nbformat_minor": 2
}
